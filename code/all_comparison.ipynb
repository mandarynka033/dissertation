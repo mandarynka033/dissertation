{
  "cells": [
    {
      "cell_type": "markdown",
      "metadata": {
        "id": "E9RadiuG-yUC"
      },
      "source": [
        "## Library import"
      ]
    },
    {
      "cell_type": "code",
      "execution_count": null,
      "metadata": {
        "colab": {
          "base_uri": "https://localhost:8080/"
        },
        "id": "qqVkUnSH-491",
        "outputId": "cd45f54c-aaed-4b56-e8c2-c9c8725e58b0"
      },
      "outputs": [
        {
          "output_type": "stream",
          "name": "stdout",
          "text": [
            "Mounted at /content/drive\n",
            "Collecting transformers\n",
            "  Downloading transformers-4.18.0-py3-none-any.whl (4.0 MB)\n",
            "\u001b[K     |████████████████████████████████| 4.0 MB 11.2 MB/s \n",
            "\u001b[?25hRequirement already satisfied: packaging>=20.0 in /usr/local/lib/python3.7/dist-packages (from transformers) (21.3)\n",
            "Requirement already satisfied: numpy>=1.17 in /usr/local/lib/python3.7/dist-packages (from transformers) (1.21.6)\n",
            "Requirement already satisfied: filelock in /usr/local/lib/python3.7/dist-packages (from transformers) (3.6.0)\n",
            "Requirement already satisfied: requests in /usr/local/lib/python3.7/dist-packages (from transformers) (2.23.0)\n",
            "Collecting sacremoses\n",
            "  Downloading sacremoses-0.0.49-py3-none-any.whl (895 kB)\n",
            "\u001b[K     |████████████████████████████████| 895 kB 50.2 MB/s \n",
            "\u001b[?25hCollecting tokenizers!=0.11.3,<0.13,>=0.11.1\n",
            "  Downloading tokenizers-0.12.1-cp37-cp37m-manylinux_2_12_x86_64.manylinux2010_x86_64.whl (6.6 MB)\n",
            "\u001b[K     |████████████████████████████████| 6.6 MB 48.6 MB/s \n",
            "\u001b[?25hRequirement already satisfied: tqdm>=4.27 in /usr/local/lib/python3.7/dist-packages (from transformers) (4.64.0)\n",
            "Requirement already satisfied: importlib-metadata in /usr/local/lib/python3.7/dist-packages (from transformers) (4.11.3)\n",
            "Collecting pyyaml>=5.1\n",
            "  Downloading PyYAML-6.0-cp37-cp37m-manylinux_2_5_x86_64.manylinux1_x86_64.manylinux_2_12_x86_64.manylinux2010_x86_64.whl (596 kB)\n",
            "\u001b[K     |████████████████████████████████| 596 kB 39.0 MB/s \n",
            "\u001b[?25hCollecting huggingface-hub<1.0,>=0.1.0\n",
            "  Downloading huggingface_hub-0.5.1-py3-none-any.whl (77 kB)\n",
            "\u001b[K     |████████████████████████████████| 77 kB 7.4 MB/s \n",
            "\u001b[?25hRequirement already satisfied: regex!=2019.12.17 in /usr/local/lib/python3.7/dist-packages (from transformers) (2019.12.20)\n",
            "Requirement already satisfied: typing-extensions>=3.7.4.3 in /usr/local/lib/python3.7/dist-packages (from huggingface-hub<1.0,>=0.1.0->transformers) (4.1.1)\n",
            "Requirement already satisfied: pyparsing!=3.0.5,>=2.0.2 in /usr/local/lib/python3.7/dist-packages (from packaging>=20.0->transformers) (3.0.8)\n",
            "Requirement already satisfied: zipp>=0.5 in /usr/local/lib/python3.7/dist-packages (from importlib-metadata->transformers) (3.8.0)\n",
            "Requirement already satisfied: urllib3!=1.25.0,!=1.25.1,<1.26,>=1.21.1 in /usr/local/lib/python3.7/dist-packages (from requests->transformers) (1.24.3)\n",
            "Requirement already satisfied: idna<3,>=2.5 in /usr/local/lib/python3.7/dist-packages (from requests->transformers) (2.10)\n",
            "Requirement already satisfied: certifi>=2017.4.17 in /usr/local/lib/python3.7/dist-packages (from requests->transformers) (2021.10.8)\n",
            "Requirement already satisfied: chardet<4,>=3.0.2 in /usr/local/lib/python3.7/dist-packages (from requests->transformers) (3.0.4)\n",
            "Requirement already satisfied: six in /usr/local/lib/python3.7/dist-packages (from sacremoses->transformers) (1.15.0)\n",
            "Requirement already satisfied: click in /usr/local/lib/python3.7/dist-packages (from sacremoses->transformers) (7.1.2)\n",
            "Requirement already satisfied: joblib in /usr/local/lib/python3.7/dist-packages (from sacremoses->transformers) (1.1.0)\n",
            "Installing collected packages: pyyaml, tokenizers, sacremoses, huggingface-hub, transformers\n",
            "  Attempting uninstall: pyyaml\n",
            "    Found existing installation: PyYAML 3.13\n",
            "    Uninstalling PyYAML-3.13:\n",
            "      Successfully uninstalled PyYAML-3.13\n",
            "Successfully installed huggingface-hub-0.5.1 pyyaml-6.0 sacremoses-0.0.49 tokenizers-0.12.1 transformers-4.18.0\n",
            "Requirement already satisfied: gensim in /usr/local/lib/python3.7/dist-packages (3.6.0)\n",
            "Collecting gensim\n",
            "  Downloading gensim-4.1.2-cp37-cp37m-manylinux_2_12_x86_64.manylinux2010_x86_64.whl (24.1 MB)\n",
            "\u001b[K     |████████████████████████████████| 24.1 MB 62.3 MB/s \n",
            "\u001b[?25hRequirement already satisfied: scipy>=0.18.1 in /usr/local/lib/python3.7/dist-packages (from gensim) (1.4.1)\n",
            "Requirement already satisfied: smart-open>=1.8.1 in /usr/local/lib/python3.7/dist-packages (from gensim) (5.2.1)\n",
            "Requirement already satisfied: numpy>=1.17.0 in /usr/local/lib/python3.7/dist-packages (from gensim) (1.21.6)\n",
            "Installing collected packages: gensim\n",
            "  Attempting uninstall: gensim\n",
            "    Found existing installation: gensim 3.6.0\n",
            "    Uninstalling gensim-3.6.0:\n",
            "      Successfully uninstalled gensim-3.6.0\n",
            "Successfully installed gensim-4.1.2\n",
            "[nltk_data] Downloading package stopwords to /root/nltk_data...\n",
            "[nltk_data]   Unzipping corpora/stopwords.zip.\n",
            "[nltk_data] Downloading package wordnet to /root/nltk_data...\n",
            "[nltk_data]   Unzipping corpora/wordnet.zip.\n",
            "[nltk_data] Downloading package punkt to /root/nltk_data...\n",
            "[nltk_data]   Unzipping tokenizers/punkt.zip.\n"
          ]
        },
        {
          "output_type": "execute_result",
          "data": {
            "text/plain": [
              "True"
            ]
          },
          "metadata": {},
          "execution_count": 1
        }
      ],
      "source": [
        "from google.colab import drive\n",
        "drive.mount(\"/content/drive\")\n",
        "\n",
        "! pip install transformers\n",
        "! pip install --upgrade gensim\n",
        "import nltk\n",
        "nltk.download('stopwords')\n",
        "nltk.download('wordnet')\n",
        "nltk.download('punkt')"
      ]
    },
    {
      "cell_type": "code",
      "execution_count": null,
      "metadata": {
        "id": "4DgOJzBc-yUG",
        "colab": {
          "base_uri": "https://localhost:8080/",
          "height": 131,
          "referenced_widgets": [
            "b0b49e7829ac4fd0beee2d076e00e146",
            "513c169764714e29b112f3a37e9885a7",
            "224ef226b6e84137ade9c0e5048d9bdf",
            "f3a48588b62946e09953c12160a00651",
            "6d5b8db16bc44221969d702fd6f59582",
            "175ebc95e045440c8fecf64908df4142",
            "4490b1093b664bb497c258216bcfce6c",
            "e2c038d09ca04b288107f69a0162e238",
            "b078e375dbe24c35aa487f76812aa48c",
            "4b0857fb69cd45659444433e78114144",
            "7c5559ecda054dd6808a8baf1a22275e",
            "b8008b58ae4b4ca79a9606681f704c95",
            "01391510c88745b59d9fdbad1c5aff26",
            "11687bebc14849909d87fe0270314ca3",
            "296865a9192b42a0a893fa364e155109",
            "28406688b5f349bda0beaec9d8aaa184",
            "786e0f96693249d4b20f368d2bf53897",
            "db610d4552364d67abfa2b591b154424",
            "6f7a03903de043a9b68293f556bd332b",
            "1118362c3281403c93528959cb3a001d",
            "f8ad29e5bb924eb7a8543c996ba0bf03",
            "c32a317568324606adde9eee46f78277",
            "736e302b77654c86a2bda9faa1acf6ae",
            "c3c321b54d064b40a5a39b9bf62d2082",
            "63a632c200454de09e111dd62ba88eb6",
            "9fbfcb62e8584ad3b81c26c436191dc3",
            "394504d87eda454485b55191c1dad431",
            "72c1f5b50d2f4923b2b3fc1ad761742d",
            "fa99ac4401d444fa8abf64a6e8025abd",
            "fe79b85d76614c5280f4a3397dae90f1",
            "3795681b58ed4143ac5eeeb52fbee264",
            "db7fafdc5eaa4abb84fa3cccef028854",
            "e7f210270dbf442aa61e12f31c0ceb85"
          ]
        },
        "outputId": "0c943452-b30c-48f6-ed61-ae63fe7f391e"
      },
      "outputs": [
        {
          "output_type": "display_data",
          "data": {
            "text/plain": [
              "Downloading:   0%|          | 0.00/226k [00:00<?, ?B/s]"
            ],
            "application/vnd.jupyter.widget-view+json": {
              "version_major": 2,
              "version_minor": 0,
              "model_id": "b0b49e7829ac4fd0beee2d076e00e146"
            }
          },
          "metadata": {}
        },
        {
          "output_type": "display_data",
          "data": {
            "text/plain": [
              "Downloading:   0%|          | 0.00/28.0 [00:00<?, ?B/s]"
            ],
            "application/vnd.jupyter.widget-view+json": {
              "version_major": 2,
              "version_minor": 0,
              "model_id": "b8008b58ae4b4ca79a9606681f704c95"
            }
          },
          "metadata": {}
        },
        {
          "output_type": "display_data",
          "data": {
            "text/plain": [
              "Downloading:   0%|          | 0.00/570 [00:00<?, ?B/s]"
            ],
            "application/vnd.jupyter.widget-view+json": {
              "version_major": 2,
              "version_minor": 0,
              "model_id": "736e302b77654c86a2bda9faa1acf6ae"
            }
          },
          "metadata": {}
        },
        {
          "output_type": "stream",
          "name": "stdout",
          "text": [
            "[==================================================] 100.0% 1662.8/1662.8MB downloaded\n"
          ]
        }
      ],
      "source": [
        "# Language processing\n",
        "import string\n",
        "import nltk\n",
        "import re\n",
        "\n",
        "# System\n",
        "import sys\n",
        "path_smt = '/content/drive/MyDrive/dis/'\n",
        "sys.path.append(path_smt)\n",
        "import time\n",
        "\n",
        "# Data preprocessing\n",
        "from preprocessing import * \n",
        "import pandas as pd\n",
        "import numpy as np\n",
        "from nltk.stem import WordNetLemmatizer\n",
        "from sklearn.preprocessing import StandardScaler\n",
        "\n",
        "# Statistical tools\n",
        "import scipy.stats as stat\n",
        "from sklearn.decomposition import PCA\n",
        "from sklearn.preprocessing import normalize\n",
        "\n",
        "# Plotting\n",
        "import matplotlib.pyplot as plt\n",
        "\n",
        "# Word2vec\n",
        "import gensim\n",
        "import gensim.downloader\n",
        "from gensim.models import Word2Vec\n",
        "google_news_vectors = gensim.downloader.load('word2vec-google-news-300')\n",
        "\n",
        "# Bert\n",
        "import torch\n",
        "from transformers import BertModel\n",
        "\n",
        "# Glove\n",
        "embeddings_dict = {}\n",
        "with open(path_smt + \"glove.6B.50d.txt\", 'r', encoding='utf-8') as f:\n",
        "    for line in f:\n",
        "        values = line.split()\n",
        "        word = values[0]\n",
        "        vector = np.asarray(values[1:], \"float32\")\n",
        "        embeddings_dict[word] = vector\n",
        "        \n",
        "# Calibration\n",
        "from sklearn.isotonic import IsotonicRegression"
      ]
    },
    {
      "cell_type": "markdown",
      "metadata": {
        "id": "Fb8ytVh3-yUH"
      },
      "source": [
        "## Data import"
      ]
    },
    {
      "cell_type": "code",
      "execution_count": null,
      "metadata": {
        "id": "fldk6RNb-yUI"
      },
      "outputs": [],
      "source": [
        "def import_data(sts=False, subsample = False):\n",
        "    if sts:\n",
        "#         STS has the train and test files separately\n",
        "        dt_train = pd.read_csv(path_smt+\"sts-train.csv\", sep='\\t', \n",
        "                          header = None, encoding='utf-8',\n",
        "                names = [\"drop1\", \"drop2\", \"drop3\", \"drop4\", \"sim\", \"sent1\", \"sent2\"])\n",
        "        dt_train.loc[:, (\"split\")] = \"TRAIN\"\n",
        "        dt_test = pd.read_csv(path_smt+\"sts-test.csv\", sep='\\t', \n",
        "                          header = None, encoding='utf-8', engine=\"python\", quoting = 3,\n",
        "                names = [\"drop1\", \"drop2\", \"drop3\", \"drop4\", \"sim\", \"sent1\", \"sent2\", \"bad1\", \"bad2\"])\n",
        "        dt_test.loc[:, (\"split\")] = \"TEST\"\n",
        "        dt_drop = pd.concat([dt_train, dt_test])\n",
        "        dt_full = dt_drop[[\"sim\", \"sent1\", \"sent2\", \"split\"]].reset_index()\n",
        "    else:\n",
        "        dt_raw = pd.read_csv(path_smt+\"SICK.txt\", sep='\\t', encoding='utf-8')\n",
        "        dt_names = dt_raw[[\"sentence_A\", \"sentence_B\", \"relatedness_score\", \"SemEval_set\"]]\n",
        "        dt_full = dt_names.rename(columns = {'sentence_A':'sent1', 'sentence_B':'sent2', \n",
        "                                    \"relatedness_score\":\"sim\", \"SemEval_set\":\"split\"})\n",
        "    dt = dt_full[(dt_full.sent1.str.len() < 220) & (dt_full.sent2.str.len() < 220)].reset_index()\n",
        "    dt.loc[:, (\"sim01\")] = (dt[\"sim\"] - min(dt[\"sim\"]))/(max(dt[\"sim\"]) - min(dt[\"sim\"]))\n",
        "    # Subsample for BERT\n",
        "    if subsample:\n",
        "        dt = dt.sample(frac = 0.2, random_state = 1, ignore_index=True)\n",
        "    dt_long = pd.concat([dt[[\"sent1\"]].rename(columns = {\"sent1\":\"sent\"}), \n",
        "                     dt[[\"sent2\"]].rename(columns={\"sent2\":\"sent\"})], ignore_index=True)\n",
        "    return dt, dt_long\n",
        "\n",
        "sick, sick_long = import_data(sts=False)\n",
        "sick_bert, sick_bert_long = import_data(sts=False, subsample = True)\n",
        "sts, sts_long = import_data(sts=True)\n",
        "sts_bert, sts_bert_long = import_data(sts=True, subsample=True)"
      ]
    },
    {
      "cell_type": "markdown",
      "metadata": {
        "id": "mtfNZlxT-yUL"
      },
      "source": [
        "### Plot of similarity scores distribution"
      ]
    },
    {
      "cell_type": "code",
      "execution_count": null,
      "metadata": {
        "id": "LJ0PFPxv-yUL",
        "outputId": "51b53c2c-59cf-49ad-ac2d-69fb236af003",
        "colab": {
          "base_uri": "https://localhost:8080/",
          "height": 179
        }
      },
      "outputs": [
        {
          "output_type": "display_data",
          "data": {
            "text/plain": [
              "<Figure size 504x144 with 2 Axes>"
            ],
            "image/png": "[encoded data removed]"
          },
          "metadata": {
            "needs_background": "light"
          }
        }
      ],
      "source": [
        "fig, ax = plt.subplots(1, 2, figsize=(7,2))\n",
        "fig.tight_layout(w_pad = 3)\n",
        "ax[0].hist(sick['sim'], bins = 20)\n",
        "ax[0].set_title('SICK Similarity Score Distribution')\n",
        "ax[0].set_xlabel(\"Similarity Score\")\n",
        "ax[0].set_ylabel(\"Count\")\n",
        "\n",
        "ax[1].hist(sts['sim'], bins = 20)\n",
        "ax[1].set_title('STS Similarity Score Distribution')\n",
        "ax[1].set_xlabel(\"Similarity Score\")\n",
        "ax[1].set_ylabel(\"Count\")\n",
        "# plt.savefig(\"dist_similarity.pdf\", bbox_inches='tight')"
      ]
    },
    {
      "cell_type": "markdown",
      "metadata": {
        "id": "L6vfF-ZW-yUM"
      },
      "source": [
        "## Adding out-of-vocabulary words to Glove and Word2Vec"
      ]
    },
    {
      "cell_type": "code",
      "execution_count": null,
      "metadata": {
        "id": "tCmMoSZX-yUM"
      },
      "outputs": [],
      "source": [
        "# Checking if lemmatised versions are in vocabulary\n",
        "wnl = WordNetLemmatizer()\n",
        "# All keys in embeddings dictionary\n",
        "google_lst = google_news_vectors.index_to_key\n",
        "glove_keys = embeddings_dict.keys()"
      ]
    },
    {
      "cell_type": "code",
      "execution_count": null,
      "metadata": {
        "id": "4KL02fjP-yUN"
      },
      "outputs": [],
      "source": [
        "\n",
        "def lemmatise(dt_long):\n",
        "    preprocess(\"sent\", dt_long)\n",
        "    # All words appearing in dataset\n",
        "    all_words = set(' '.join(dt_long['sent_punct']).split())   \n",
        "    # Words not present in word2vec dictionary\n",
        "    add_google = all_words.difference(google_lst)\n",
        "    # Words not present in GloVe dictionary\n",
        "    add_glove = all_words.difference(glove_keys)\n",
        "    # If lemmatised versions in dictionary, change the words to their lemmatised version\n",
        "    new_long = add_words(add_google, dt_long, google_news_vectors)\n",
        "    newer_long = add_words(add_glove, new_long, embeddings_dict)\n",
        "    return newer_long\n",
        "\n",
        "def add_words(absent, dt_long, diction):\n",
        "    replace_long = dt_long\n",
        "    for wrd in absent:\n",
        "        # Lemmatise\n",
        "        lem = wnl.lemmatize(wrd)\n",
        "        if lem != wrd:\n",
        "            if lem in diction:\n",
        "              # If lemmatised version in dictionary, replace the word in the dataset\n",
        "                replace_long = replace_long.replace({wrd:lem}, regex=True)\n",
        "    return replace_long\n",
        "                \n",
        "sick_long = lemmatise(sick_long)\n",
        "sts_long = lemmatise(sts_long)"
      ]
    },
    {
      "cell_type": "code",
      "execution_count": null,
      "metadata": {
        "id": "IoEAJ9Pt-yUN"
      },
      "outputs": [],
      "source": [
        "# If lemmatised not in vocabulary then create a random vector\n",
        "all_words_sick = set(' '.join(sick_long['sent_punct']).split())   \n",
        "all_words_sts = set(' '.join(sts_long['sent_punct']).split()) \n",
        "# All words in both datasets\n",
        "all_words = all_words_sick.union(all_words_sts)\n",
        "\n",
        "# Add all unknown words from both datasets\n",
        "add_google = all_words.difference(google_lst)\n",
        "for wrd in add_google:\n",
        "    google_news_vectors[wrd] = np.random.normal(size = 300)\n",
        "add_glove = all_words.difference(glove_keys)    \n",
        "for wrd in add_glove:\n",
        "    embeddings_dict[wrd] = np.random.normal(size = 50)"
      ]
    },
    {
      "cell_type": "markdown",
      "metadata": {
        "id": "Y10qy6hI-yUN"
      },
      "source": [
        "## Vector average"
      ]
    },
    {
      "cell_type": "code",
      "execution_count": null,
      "metadata": {
        "id": "g8GBnyuj-yUN"
      },
      "outputs": [],
      "source": [
        "# Compute vector average for two sentences\n",
        "def comp_aver(var,  diction, j, base_emb):\n",
        "  # Specify dimension of the end vector based on the embedding used\n",
        "    if base_emb == \"glove\":\n",
        "        len_emb = 50\n",
        "    elif base_emb == \"bert\":\n",
        "        len_emb = 768\n",
        "    else:\n",
        "        len_emb = 300\n",
        "\n",
        "# Vector for all word vectors\n",
        "    word_vectors = np.zeros((len_emb, len(var[j])))\n",
        "    for i in range(len(var[j])):\n",
        "        wrd = var[j][i]\n",
        "#         Obtain word vector\n",
        "        word_vectors[:, i] = diction[wrd]\n",
        "#             Return the average of all word vectors\n",
        "    return(np.sum(word_vectors, axis = 1)/len(var[j]))\n",
        "\n",
        "# Compute vector average for whole dataframe\n",
        "def add_stats(dt, dt1, dt2, emb, dicti):\n",
        "    sims = np.zeros(len(dt1))\n",
        "    for jj in range(len(dt1)):\n",
        "        avg_vec1 = comp_aver(dt1, base_emb = emb, diction = dicti, j = jj)\n",
        "        avg_vec2 = comp_aver(dt2, base_emb = emb, diction = dicti, j = jj)\n",
        "\n",
        "#         Compute cosine distance\n",
        "        sims[jj] = 1 - spatial.distance.cosine(avg_vec1, avg_vec2)\n",
        "\n",
        "    # Adding the calculated similarity to the dataframe\n",
        "    dt.loc[:, (emb + \"_sim\")] = sims"
      ]
    },
    {
      "cell_type": "markdown",
      "metadata": {
        "id": "ZEXQJLNK-yUO"
      },
      "source": [
        "## Preprocessing: Bert"
      ]
    },
    {
      "cell_type": "code",
      "execution_count": null,
      "metadata": {
        "colab": {
          "base_uri": "https://localhost:8080/",
          "height": 121,
          "referenced_widgets": [
            "8b7aa20be96c40a6b2d4b5d2d88f3427",
            "c8eaa7872693417eb9dd6f35969a51e1",
            "c1faedf86eb9470b86e467d2e6d212ae",
            "5465b4eafb0f461b9e32d722adc6e398",
            "3a52d7335c8b4d299a2b9d4b81983d46",
            "29e7d58d4ed94a2ebe3ecbee2d89710b",
            "d08a77fa629946a691755190c61220e9",
            "6e78ae59cb3547c5a13393c39bd029ae",
            "7bacca8150484ca49975ede7e4b83bb4",
            "420d05487c414041a7b58e7501c82e32",
            "5479c9baed4146119605753f61532620"
          ]
        },
        "id": "AcXmyJiw-yUO",
        "outputId": "48d6ed04-a2d5-478e-d2c9-e5175cf2989b"
      },
      "outputs": [
        {
          "output_type": "display_data",
          "data": {
            "text/plain": [
              "Downloading:   0%|          | 0.00/420M [00:00<?, ?B/s]"
            ],
            "application/vnd.jupyter.widget-view+json": {
              "version_major": 2,
              "version_minor": 0,
              "model_id": "8b7aa20be96c40a6b2d4b5d2d88f3427"
            }
          },
          "metadata": {}
        },
        {
          "output_type": "stream",
          "name": "stderr",
          "text": [
            "Some weights of the model checkpoint at bert-base-uncased were not used when initializing BertModel: ['cls.predictions.transform.LayerNorm.bias', 'cls.predictions.transform.LayerNorm.weight', 'cls.predictions.decoder.weight', 'cls.seq_relationship.weight', 'cls.seq_relationship.bias', 'cls.predictions.transform.dense.weight', 'cls.predictions.bias', 'cls.predictions.transform.dense.bias']\n",
            "- This IS expected if you are initializing BertModel from the checkpoint of a model trained on another task or with another architecture (e.g. initializing a BertForSequenceClassification model from a BertForPreTraining model).\n",
            "- This IS NOT expected if you are initializing BertModel from the checkpoint of a model that you expect to be exactly identical (initializing a BertForSequenceClassification model from a BertForSequenceClassification model).\n"
          ]
        }
      ],
      "source": [
        "model = BertModel.from_pretrained('bert-base-uncased', output_hidden_states = True).eval()"
      ]
    },
    {
      "cell_type": "code",
      "execution_count": null,
      "metadata": {
        "id": "5l6T-mpb-yUP"
      },
      "outputs": [],
      "source": [
        "preprocess(\"sent\", sick_bert_long)\n",
        "preprocess(\"sent\", sts_bert_long)"
      ]
    },
    {
      "cell_type": "code",
      "execution_count": null,
      "metadata": {
        "id": "UOC-aKeS-yUO"
      },
      "outputs": [],
      "source": [
        "def create_bert_dict(dt_long, dt):\n",
        "#     All word ids and bert tokenised text\n",
        "    tensor_token, normal_tokens, _ = bert_preprocess(dt_long.sent_punct)\n",
        "    \n",
        "    with torch.no_grad():\n",
        "        outputs_sim = model(tensor_token)\n",
        "        sim_vecs = outputs_sim[2][-2]\n",
        "\n",
        "# Reshape the values to create a dictionary of bert keys and values\n",
        "    sim_vecs_list = torch.reshape(sim_vecs, (sim_vecs.size()[0]*sim_vecs.size()[1], 768))\n",
        "    \n",
        "    un = unpad(normal_tokens)\n",
        "#     Save bert preprocessed data in the final dataframe\n",
        "    dt.loc[:,(\"bert_tokens1\")] = un[0:int((len(normal_tokens)/2))]\n",
        "    dt.loc[:,(\"bert_tokens2\")] = un[int((len(normal_tokens)/2)):]\n",
        "    return dict(zip(flatten(normal_tokens), sim_vecs_list))"
      ]
    },
    {
      "cell_type": "markdown",
      "source": [
        "# Predictions"
      ],
      "metadata": {
        "id": "9sL7Q5AGtg6U"
      }
    },
    {
      "cell_type": "code",
      "execution_count": null,
      "metadata": {
        "id": "QIv_OjZN-yUO"
      },
      "outputs": [],
      "source": [
        "def get_predictions(dt, dt_long, dt_bert, dt_bert_long, bert_dict):\n",
        "    # Add preprocessed data for Word2Vec and Glove to the main dataframe\n",
        "    dt.loc[:,(\"sent_punct1\")] = dt_long.sent_punct[0:int((len(dt_long)/2))]\n",
        "    dt.loc[:,(\"sent_punct2\")] = dt_long[int((len(dt_long)/2)):].reset_index().sent_punct\n",
        "    \n",
        "    # Tokenising as the final preprocessing stage for Word2Vec and Glove\n",
        "    tokens1 = dt.apply(lambda row: nltk.word_tokenize(row['sent_punct1']), axis=1)\n",
        "    tokens2 = dt.apply(lambda row: nltk.word_tokenize(row['sent_punct2']), axis=1)\n",
        "    \n",
        "#     Adding vector average\n",
        "    add_stats(dt_bert, dt_bert.bert_tokens1, dt_bert.bert_tokens2, emb = \"bert\", dicti = bert_dict)\n",
        "    # print(\"Time before aver for Glove and Google:\", time.time())\n",
        "    add_stats(dt, tokens1, tokens2, emb = \"google\", dicti = google_news_vectors)\n",
        "    add_stats(dt, tokens1, tokens2, emb = \"glove\", dicti = embeddings_dict)\n",
        "    # print(\"Time after aver for Glove and Google:\", time.time())\n",
        "    \n",
        "#     WMD\n",
        "    sims_bert = np.zeros(len(dt_bert))\n",
        "    sims_glove = np.zeros(len(dt))\n",
        "    sims_google = np.zeros(len(dt))\n",
        "    for i in range(len(dt_bert)):\n",
        "        sims_bert[i] = wmdist(bert_dict, dt_bert.bert_tokens1[i], dt_bert.bert_tokens2[i])\n",
        "    # print(\"Time before WMD for Glove and Google:\", time.time())\n",
        "    for i in range(len(dt)):\n",
        "        sims_glove[i] = wmdist(embeddings_dict, tokens1[i], tokens2[i])\n",
        "        sims_google[i] = wmdist(google_news_vectors, tokens1[i], tokens2[i])\n",
        "    # print(\"Time after WMD for Glove and Google:\", time.time())\n",
        "    \n",
        "    # Adding the inverted WMD distance to dataframe\n",
        "    dt[\"wmd_google\"] = 1/(1+sims_google)\n",
        "    dt[\"wmd_glove\"] = 1/(1+sims_glove)\n",
        "    dt_bert[\"wmd_bert\"] = 1/(1+sims_bert)"
      ]
    },
    {
      "cell_type": "code",
      "execution_count": null,
      "metadata": {
        "id": "lQe4-Otc-yUP"
      },
      "outputs": [],
      "source": [
        "# SICK Bert dictionary\n",
        "bert_dict_sick = create_bert_dict(sick_bert_long, sick_bert)"
      ]
    },
    {
      "cell_type": "code",
      "execution_count": null,
      "metadata": {
        "id": "l7AoB7Yh-yUP",
        "colab": {
          "base_uri": "https://localhost:8080/"
        },
        "outputId": "952e9942-1c32-4f5a-a5c0-edda89c094a7"
      },
      "outputs": [
        {
          "output_type": "stream",
          "name": "stdout",
          "text": [
            "Time before aver for Glove and Google: 1650718494.730287\n",
            "Time after aver for Glove and Google: 1650718497.8111947\n",
            "Time before WMD for Glove and Google: 1650718501.899934\n",
            "Time after WMD for Glove and Google: 1650718533.1034555\n"
          ]
        }
      ],
      "source": [
        "get_predictions(sick, sick_long, sick_bert, sick_bert_long, bert_dict_sick)"
      ]
    },
    {
      "cell_type": "markdown",
      "source": [
        "Vector average takes 3 seconds and WMD takes 30 seconds."
      ],
      "metadata": {
        "id": "8bW6CCt-fkjl"
      }
    },
    {
      "cell_type": "code",
      "execution_count": null,
      "metadata": {
        "id": "fhbmkHuH-yUP"
      },
      "outputs": [],
      "source": [
        " # STS Bert dictionary\n",
        "bert_dict_sts = create_bert_dict(sts_bert_long, sts_bert)"
      ]
    },
    {
      "cell_type": "code",
      "execution_count": null,
      "metadata": {
        "id": "GhJJWsUS-yUP",
        "colab": {
          "base_uri": "https://localhost:8080/"
        },
        "outputId": "cefad97b-d5c5-4476-fbf3-1b9c250771be"
      },
      "outputs": [
        {
          "output_type": "stream",
          "name": "stdout",
          "text": [
            "Time before aver for Glove and Google: 1650718798.0059423\n",
            "Time after aver for Glove and Google: 1650718800.4984927\n",
            "Time before WMD for Glove and Google: 1650718806.5662177\n",
            "Time after WMD for Glove and Google: 1650718845.585518\n"
          ]
        }
      ],
      "source": [
        "get_predictions(sts, sts_long, sts_bert, sts_bert_long, bert_dict_sts)"
      ]
    },
    {
      "cell_type": "markdown",
      "source": [
        "Vector average takes 2 seconds and WMD takes 40 seconds."
      ],
      "metadata": {
        "id": "ci4WDFGUgvKj"
      }
    },
    {
      "cell_type": "markdown",
      "metadata": {
        "id": "VmmV8lwZ-yUQ"
      },
      "source": [
        "## Test train split"
      ]
    },
    {
      "cell_type": "code",
      "execution_count": null,
      "metadata": {
        "id": "67pWr7tN-yUQ"
      },
      "outputs": [],
      "source": [
        "def test_train(dt, dt_bert):\n",
        "  dt_test = dt[dt[\"split\"] == \"TEST\"]\n",
        "  dt_train = dt[dt[\"split\"] == \"TRAIN\"]\n",
        "  dt_bert_test = dt_bert[dt_bert[\"split\"] == \"TEST\"]\n",
        "  dt_bert_train = dt_bert[dt_bert[\"split\"] == \"TRAIN\"]\n",
        "  return (dt_train, dt_bert_train, dt_test, dt_bert_test)\n",
        "\n",
        "sick_train, sick_bert_train, sick_test, sick_bert_test = test_train(sick, sick_bert)\n",
        "sts_train, sts_bert_train, sts_test, sts_bert_test = test_train(sts, sts_bert)"
      ]
    },
    {
      "cell_type": "markdown",
      "metadata": {
        "id": "YJoXu2_yj4T-"
      },
      "source": [
        "## SICK evaluation"
      ]
    },
    {
      "cell_type": "code",
      "execution_count": null,
      "metadata": {
        "colab": {
          "base_uri": "https://localhost:8080/"
        },
        "id": "ewoYrGcg-yUQ",
        "outputId": "50e63fc4-65fb-444d-8c17-967deeca8ecc"
      },
      "outputs": [
        {
          "name": "stdout",
          "output_type": "stream",
          "text": [
            "Correlation for SICK average Bert: 0.42418433364657965\n",
            "Correlation for SICK average Word2vec: 0.710306929047443\n",
            "Correlation for SICK average Glove: 0.6463377476772563\n",
            "Correlation for SICK wmd Bert: 0.5262276074294747\n",
            "Correlation for SICK wmd Word2vec: 0.6497038895144407\n",
            "Correlation for SICK wmd Glove: 0.6403431754150863\n"
          ]
        }
      ],
      "source": [
        "print(\"Correlation for SICK average Bert:\", stat.pearsonr(sick_bert_test[\"bert_sim\"],\n",
        "                                                          sick_bert_test[\"sim\"])[0])\n",
        "print(\"Correlation for SICK average Word2vec:\", stat.pearsonr(sick_test[\"google_sim\"], \n",
        "                                                              sick_test[\"sim\"])[0])\n",
        "print(\"Correlation for SICK average Glove:\", stat.pearsonr(sick_test[\"glove_sim\"],\n",
        "                                                           sick_test[\"sim\"])[0])\n",
        "print(\"Correlation for SICK wmd Bert:\", stat.pearsonr(sick_bert_test[\"wmd_bert\"], \n",
        "                                                      sick_bert_test[\"sim\"])[0])\n",
        "print(\"Correlation for SICK wmd Word2vec:\", stat.pearsonr(sick_test[\"wmd_google\"], sick_test[\"sim\"])[0])\n",
        "print(\"Correlation for SICK wmd Glove:\", stat.pearsonr(sick_test[\"wmd_glove\"], sick_test[\"sim\"])[0])"
      ]
    },
    {
      "cell_type": "code",
      "source": [
        "# Similar sentences\n",
        "sick_sim = sick_test[sick_test.sim > 3]\n",
        "# Dissimilar sentences\n",
        "sick_not = sick_test[sick_test.sim <= 3]"
      ],
      "metadata": {
        "id": "-de9SRPyPYwC"
      },
      "execution_count": null,
      "outputs": []
    },
    {
      "cell_type": "code",
      "source": [
        "print(\"Correlation for similar sentences on SICK\",\n",
        "      stat.pearsonr(sick_sim[\"google_sim\"], sick_sim[\"sim\"])[0])\n",
        "print(\"Correlation for dissimilar sentences on SICK\",\n",
        "      stat.pearsonr(sick_not[\"google_sim\"], sick_not[\"sim\"])[0])"
      ],
      "metadata": {
        "colab": {
          "base_uri": "https://localhost:8080/"
        },
        "id": "6kd5GD4nP3kC",
        "outputId": "5ed5d5dd-e13a-44e0-e50e-4aac291261b2"
      },
      "execution_count": null,
      "outputs": [
        {
          "output_type": "stream",
          "name": "stdout",
          "text": [
            "0.3674465270020075\n",
            "0.7329032626292836\n"
          ]
        }
      ]
    },
    {
      "cell_type": "markdown",
      "source": [
        "Calibration does not help with balancing the quality of the predictions for similar and dissimilar sentences."
      ],
      "metadata": {
        "id": "T89nvqLNQ7us"
      }
    },
    {
      "cell_type": "code",
      "source": [
        "print(stat.pearsonr(sick_sim[\"iso_google_aver\"], sick_sim[\"sim\"])[0])\n",
        "print(stat.pearsonr(sick_not[\"iso_google_aver\"], sick_not[\"sim\"])[0])"
      ],
      "metadata": {
        "colab": {
          "base_uri": "https://localhost:8080/"
        },
        "id": "E9VhWj7hQZoV",
        "outputId": "5ff5af3a-84f7-465e-c9d4-d70426f60d33"
      },
      "execution_count": null,
      "outputs": [
        {
          "output_type": "stream",
          "name": "stdout",
          "text": [
            "0.37309330789255146\n",
            "0.7545822462631597\n"
          ]
        }
      ]
    },
    {
      "cell_type": "markdown",
      "metadata": {
        "id": "1Bu5X1dJj5Iw"
      },
      "source": [
        "## STS evaluation"
      ]
    },
    {
      "cell_type": "code",
      "execution_count": null,
      "metadata": {
        "colab": {
          "base_uri": "https://localhost:8080/"
        },
        "id": "-l1ZaOlHkRvS",
        "outputId": "ec72931d-a33a-4269-fe0f-fbb2f4468bcc"
      },
      "outputs": [
        {
          "name": "stdout",
          "output_type": "stream",
          "text": [
            "Correlation for STS average Bert: 0.3636212080817468\n",
            "Correlation for STS average Word2vec: 0.5580742174920632\n",
            "Correlation for STS average Glove: 0.5464378027311095\n",
            "Correlation for STS wmd Bert: 0.38933246138294547\n",
            "Correlation for STS wmd Word2vec: 0.6609924350486754\n",
            "Correlation for STS wmd Glove: 0.6075392734359573\n"
          ]
        }
      ],
      "source": [
        "print(\"Correlation for STS average Bert:\", stat.pearsonr(sts_bert_test[\"bert_sim\"], sts_bert_test[\"sim\"])[0])\n",
        "print(\"Correlation for STS average Word2vec:\", stat.pearsonr(sts_test[\"google_sim\"], sts_test[\"sim\"])[0])\n",
        "print(\"Correlation for STS average Glove:\", stat.pearsonr(sts_test[\"glove_sim\"], sts_test[\"sim\"])[0])\n",
        "print(\"Correlation for STS wmd Bert:\", stat.pearsonr(sts_bert_test[\"wmd_bert\"], sts_bert_test[\"sim\"])[0])\n",
        "print(\"Correlation for STS wmd Word2vec:\", stat.pearsonr(sts_test[\"wmd_google\"], sts_test[\"sim\"])[0])\n",
        "print(\"Correlation for STS wmd Glove:\", stat.pearsonr(sts_test[\"wmd_glove\"], sts_test[\"sim\"])[0])"
      ]
    },
    {
      "cell_type": "code",
      "source": [
        "# Similar sentences\n",
        "sts_sim = sts_test[sts_test.sim > 2.5]\n",
        "# Dissimilar sentences\n",
        "sts_not = sts_test[sts_test.sim <= 2.5]\n",
        "print(\"Correlation for similar sentences on STS:\",\n",
        "      stat.pearsonr(sts_sim[\"wmd_google\"], sts_sim[\"sim\"])[0])\n",
        "print(\"Correlation for dissimilar sentences on STS:\",\n",
        "      stat.pearsonr(sts_not[\"wmd_google\"], sts_not[\"sim\"])[0])"
      ],
      "metadata": {
        "colab": {
          "base_uri": "https://localhost:8080/"
        },
        "id": "Jm5o5pQIP2B7",
        "outputId": "2b3e9027-7d43-4706-f6a6-189c0a702f5b"
      },
      "execution_count": null,
      "outputs": [
        {
          "output_type": "stream",
          "name": "stdout",
          "text": [
            "Correlation for similar sentences on STS: 0.46530129153780936\n",
            "Correlation for dissimilar sentences on STS: 0.5484401217936897\n"
          ]
        }
      ]
    },
    {
      "cell_type": "markdown",
      "metadata": {
        "id": "32GcGv_r-yUL"
      },
      "source": [
        "## Probability distortion plot"
      ]
    },
    {
      "cell_type": "code",
      "execution_count": null,
      "metadata": {
        "colab": {
          "base_uri": "https://localhost:8080/",
          "height": 516
        },
        "id": "A3qYBlLw-yUM",
        "outputId": "318ff94d-3fff-4ed9-ac7b-0387b975a8e0"
      },
      "outputs": [
        {
          "data": {
            "image/png": "[encoded data removed]",
            "text/plain": [
              "<Figure size 864x504 with 6 Axes>"
            ]
          },
          "metadata": {},
          "output_type": "display_data"
        }
      ],
      "source": [
        "fig, ax = plt.subplots(2, 2, sharey = False, sharex = False, figsize=(12,7))\n",
        "fig.tight_layout(h_pad=5, w_pad = 3)\n",
        "dens1 = ax[0, 0].scatter(sick.google_sim, sick[\"sim01\"], c=density_plot(\"google_sim\", sick), s=100)\n",
        "ax[0, 0].set_ylabel('Ground truth', size = 14)\n",
        "ax[0, 0].set_xlabel(\"Vector average predictions\", size = 14)\n",
        "fig.colorbar(dens1, ax=ax[0, 0], label = \"Density\")\n",
        "dens2 = ax[0, 1].scatter(sick[\"wmd_google\"], sick[\"sim01\"], c=density_plot(\"wmd_google\", sick), s=100)\n",
        "ax[0, 1].set_ylabel('Ground truth', size = 14)\n",
        "ax[0, 1].set_xlabel(\"WMD predictions\", size = 14)\n",
        "bar2 = fig.colorbar(dens2, ax=ax[0, 1])\n",
        "bar2.set_label(\"Density\")\n",
        "ax[1, 0].hist(sick.google_sim)\n",
        "ax[1, 0].set_ylabel('Count', size = 14)\n",
        "ax[1, 0].set_xlabel(\"Similarity score prediction (vector average)\", size = 14)\n",
        "ax[1, 1].hist(sick.wmd_google)\n",
        "ax[1, 1].set_ylabel('Count', size = 14)\n",
        "ax[1, 1].set_xlabel(\"Similarity score prediction (WMD)\", size = 14)\n",
        "# plt.savefig(\"distort.pdf\", bbox_inches='tight')"
      ]
    },
    {
      "cell_type": "markdown",
      "metadata": {
        "id": "oLM697rQ-yUR"
      },
      "source": [
        "## Isotonic regression"
      ]
    },
    {
      "cell_type": "code",
      "execution_count": null,
      "metadata": {
        "colab": {
          "base_uri": "https://localhost:8080/"
        },
        "id": "CpWxVbwR-yUS",
        "outputId": "cd5e9cf9-e544-4f2e-d491-080123050c74"
      },
      "outputs": [
        {
          "output_type": "stream",
          "name": "stderr",
          "text": [
            "/usr/local/lib/python3.7/dist-packages/pandas/core/indexing.py:1667: SettingWithCopyWarning: \n",
            "A value is trying to be set on a copy of a slice from a DataFrame.\n",
            "Try using .loc[row_indexer,col_indexer] = value instead\n",
            "\n",
            "See the caveats in the documentation: https://pandas.pydata.org/pandas-docs/stable/user_guide/indexing.html#returning-a-view-versus-a-copy\n",
            "  self.obj[key] = value\n",
            "/usr/local/lib/python3.7/dist-packages/pandas/core/indexing.py:1667: SettingWithCopyWarning: \n",
            "A value is trying to be set on a copy of a slice from a DataFrame.\n",
            "Try using .loc[row_indexer,col_indexer] = value instead\n",
            "\n",
            "See the caveats in the documentation: https://pandas.pydata.org/pandas-docs/stable/user_guide/indexing.html#returning-a-view-versus-a-copy\n",
            "  self.obj[key] = value\n",
            "/usr/local/lib/python3.7/dist-packages/pandas/core/indexing.py:1667: SettingWithCopyWarning: \n",
            "A value is trying to be set on a copy of a slice from a DataFrame.\n",
            "Try using .loc[row_indexer,col_indexer] = value instead\n",
            "\n",
            "See the caveats in the documentation: https://pandas.pydata.org/pandas-docs/stable/user_guide/indexing.html#returning-a-view-versus-a-copy\n",
            "  self.obj[key] = value\n",
            "/usr/local/lib/python3.7/dist-packages/pandas/core/indexing.py:1667: SettingWithCopyWarning: \n",
            "A value is trying to be set on a copy of a slice from a DataFrame.\n",
            "Try using .loc[row_indexer,col_indexer] = value instead\n",
            "\n",
            "See the caveats in the documentation: https://pandas.pydata.org/pandas-docs/stable/user_guide/indexing.html#returning-a-view-versus-a-copy\n",
            "  self.obj[key] = value\n",
            "/usr/local/lib/python3.7/dist-packages/pandas/core/indexing.py:1667: SettingWithCopyWarning: \n",
            "A value is trying to be set on a copy of a slice from a DataFrame.\n",
            "Try using .loc[row_indexer,col_indexer] = value instead\n",
            "\n",
            "See the caveats in the documentation: https://pandas.pydata.org/pandas-docs/stable/user_guide/indexing.html#returning-a-view-versus-a-copy\n",
            "  self.obj[key] = value\n",
            "/usr/local/lib/python3.7/dist-packages/pandas/core/indexing.py:1667: SettingWithCopyWarning: \n",
            "A value is trying to be set on a copy of a slice from a DataFrame.\n",
            "Try using .loc[row_indexer,col_indexer] = value instead\n",
            "\n",
            "See the caveats in the documentation: https://pandas.pydata.org/pandas-docs/stable/user_guide/indexing.html#returning-a-view-versus-a-copy\n",
            "  self.obj[key] = value\n"
          ]
        }
      ],
      "source": [
        "def iso(dt_train, dt_test, col_in):\n",
        "  iso = IsotonicRegression(out_of_bounds=\"clip\").fit(dt_train[col_in], dt_train[\"sim01\"])\n",
        "  return(iso.predict(dt_test[col_in]))\n",
        "\n",
        "def add_iso(dt_train, dt_bert_train, dt_test, dt_bert_test):\n",
        "  # WMD isotonic regression\n",
        "  dt_bert_test.loc[:, (\"iso_bert\")] = iso(dt_bert_train, dt_bert_test, \"wmd_bert\")\n",
        "  dt_test.loc[:, (\"iso_google\")] = iso(dt_train, dt_test, \"wmd_google\")\n",
        "  dt_test.loc[:, (\"iso_glove\")] = iso(dt_train, dt_test, \"wmd_glove\")\n",
        "\n",
        "  # Vector average isotonic regression\n",
        "  dt_bert_test.loc[:, (\"iso_bert_aver\")] = iso(dt_bert_train, dt_bert_test, \"bert_sim\")\n",
        "  dt_test.loc[:, (\"iso_google_aver\")] = iso(dt_train, dt_test, \"google_sim\")\n",
        "  dt_test.loc[:, (\"iso_glove_aver\")] = iso(dt_train, dt_test, \"glove_sim\")\n",
        "\n",
        "add_iso(sick_train, sick_bert_train, sick_test, sick_bert_test)\n",
        "add_iso(sts_train, sts_bert_train, sts_test, sts_bert_test)"
      ]
    },
    {
      "cell_type": "markdown",
      "metadata": {
        "id": "2zchZCy3-yUS"
      },
      "source": [
        "## Calibrated SICK"
      ]
    },
    {
      "cell_type": "code",
      "execution_count": null,
      "metadata": {
        "colab": {
          "base_uri": "https://localhost:8080/"
        },
        "id": "ahKPDEja-yUS",
        "outputId": "211b543f-d35a-4c14-fa2f-9129b5ed5d94"
      },
      "outputs": [
        {
          "name": "stdout",
          "output_type": "stream",
          "text": [
            "Correlation for calibrated wmd Bert on SICK: 0.5293489996161992\n",
            "Correlation for calibrated wmd Word2vec on SICK: 0.7077476218029456\n",
            "Correlation for calibrated wmd Glove on SICK: 0.6749192820495525\n",
            "Correlation for calibrated average Bert on SICK: 0.5044571124807715\n",
            "Correlation for calibrated average Word2vec on SICK: 0.7246283697292187\n",
            "Correlation for calibrated average Glove on SICK: 0.6571813841289792\n"
          ]
        }
      ],
      "source": [
        "print(\"Correlation for calibrated average Bert on SICK:\", \n",
        "      stat.pearsonr(sick_bert_test[\"iso_bert_aver\"], sick_bert_test[\"sim\"])[0])\n",
        "print(\"Correlation for calibrated average Word2vec on SICK:\", \n",
        "      stat.pearsonr(sick_test[\"iso_google_aver\"], sick_test[\"sim\"])[0])\n",
        "print(\"Correlation for calibrated average Glove on SICK:\", \n",
        "      stat.pearsonr(sick_test[\"iso_glove_aver\"], sick_test[\"sim\"])[0])\n",
        "print(\"Correlation for calibrated wmd Bert on SICK:\", stat.pearsonr(sick_bert_test[\"iso_bert\"], \n",
        "                                                                sick_bert_test[\"sim\"])[0])\n",
        "print(\"Correlation for calibrated wmd Word2vec on SICK:\", stat.pearsonr(sick_test[\"iso_google\"], \n",
        "                                                                    sick_test[\"sim\"])[0])\n",
        "print(\"Correlation for calibrated wmd Glove on SICK:\", stat.pearsonr(sick_test[\"iso_glove\"],\n",
        "                                                                 sick_test[\"sim\"])[0])\n"
      ]
    },
    {
      "cell_type": "code",
      "execution_count": null,
      "metadata": {
        "colab": {
          "base_uri": "https://localhost:8080/",
          "height": 516
        },
        "id": "Yb4HlTI66Gmn",
        "outputId": "88f30f59-ce89-4379-fc77-05d56a7b62a2"
      },
      "outputs": [
        {
          "data": {
            "image/png": "[encoded data removed]",
            "text/plain": [
              "<Figure size 864x504 with 6 Axes>"
            ]
          },
          "metadata": {},
          "output_type": "display_data"
        }
      ],
      "source": [
        "fig, ax = plt.subplots(2, 2, sharey = False, sharex = False, figsize=(12,7))\n",
        "fig.tight_layout(h_pad=5, w_pad = 3)\n",
        "dens1 = ax[0, 0].scatter(sick_test[\"iso_google_aver\"], sick_test[\"sim01\"], \n",
        "                         c=density_plot(\"iso_google_aver\", sick_test), s=100)\n",
        "ax[0, 0].set_ylabel('Ground truth', size = 14)\n",
        "ax[0, 0].set_xlabel(\"Calibrated vector average predictions\", size = 14)\n",
        "fig.colorbar(dens1, ax=ax[0, 0], label = \"Density\")\n",
        "dens2 = ax[0, 1].scatter(sick_test[\"iso_google\"], sick_test[\"sim01\"], \n",
        "                         c=density_plot(\"iso_google\", sick_test), s=100)\n",
        "ax[0, 1].set_ylabel('Ground truth', size = 14)\n",
        "ax[0, 1].set_xlabel(\"Calibrated WMD predictions\", size = 14)\n",
        "bar2 = fig.colorbar(dens2, ax=ax[0, 1])\n",
        "bar2.set_label(\"Density\")\n",
        "ax[1, 0].hist(sick_test.iso_google_aver)\n",
        "ax[1, 0].set_ylabel('Count', size = 14)\n",
        "ax[1, 0].set_xlabel(\"Calibrated similarity score prediction (vector average)\", size = 14)\n",
        "ax[1, 1].hist(sick_test.iso_google)\n",
        "ax[1, 1].set_ylabel('Count', size = 14)\n",
        "ax[1, 1].set_xlabel(\"Calibrated similarity score prediction (WMD)\", size = 14)\n",
        "# plt.savefig(\"iso_results.pdf\", bbox_inches='tight')"
      ]
    },
    {
      "cell_type": "markdown",
      "metadata": {
        "id": "OYRcBrFWlJsA"
      },
      "source": [
        "## Calibrated STS "
      ]
    },
    {
      "cell_type": "code",
      "execution_count": null,
      "metadata": {
        "colab": {
          "base_uri": "https://localhost:8080/"
        },
        "id": "gea3-IEplHSj",
        "outputId": "c87d4c94-ede2-43b0-d98f-1e16bf3c9944"
      },
      "outputs": [
        {
          "name": "stdout",
          "output_type": "stream",
          "text": [
            "Correlation for calibrated wmd Bert for STS: 0.4269808031623498\n",
            "Correlation for calibrated wmd Word2vec for STS: 0.6948130027601424\n",
            "Correlation for calibrated wmd Glove for STS: 0.6225142440790241\n",
            "Correlation for calibrated average Bert for STS: 0.44678710867983895\n",
            "Correlation for calibrated average Word2vec for STS: 0.6169002135073417\n",
            "Correlation for calibrated average Glove for STS: 0.5935715881913393\n"
          ]
        }
      ],
      "source": [
        "print(\"Correlation for calibrated average Bert for STS:\", \n",
        "      stat.pearsonr(sts_bert_test[\"iso_bert_aver\"], sts_bert_test[\"sim\"])[0])\n",
        "print(\"Correlation for calibrated average Word2vec for STS:\", \n",
        "      stat.pearsonr(sts_test[\"iso_google_aver\"], sts_test[\"sim\"])[0])\n",
        "print(\"Correlation for calibrated average Glove for STS:\", \n",
        "      stat.pearsonr(sts_test[\"iso_glove_aver\"], sts_test[\"sim\"])[0])\n",
        "print(\"Correlation for calibrated wmd Bert for STS:\", stat.pearsonr(sts_bert_test[\"iso_bert\"], \n",
        "                                                            sts_bert_test[\"sim\"])[0])\n",
        "print(\"Correlation for calibrated wmd Word2vec for STS:\", stat.pearsonr(sts_test[\"iso_google\"], \n",
        "                                                                    sts_test[\"sim\"])[0])\n",
        "print(\"Correlation for calibrated wmd Glove for STS:\", stat.pearsonr(sts_test[\"iso_glove\"],\n",
        "                                                                 sts_test[\"sim\"])[0])"
      ]
    },
    {
      "cell_type": "markdown",
      "source": [
        "# Most erroneous sentences"
      ],
      "metadata": {
        "id": "6-buAbTruj2x"
      }
    },
    {
      "cell_type": "code",
      "execution_count": null,
      "metadata": {
        "id": "i2LFPmW1L4lT",
        "colab": {
          "base_uri": "https://localhost:8080/"
        },
        "outputId": "43ed5fd8-0835-4af7-a6dc-cf141d6c94cb"
      },
      "outputs": [
        {
          "output_type": "stream",
          "name": "stderr",
          "text": [
            "/usr/local/lib/python3.7/dist-packages/pandas/core/indexing.py:1667: SettingWithCopyWarning: \n",
            "A value is trying to be set on a copy of a slice from a DataFrame.\n",
            "Try using .loc[row_indexer,col_indexer] = value instead\n",
            "\n",
            "See the caveats in the documentation: https://pandas.pydata.org/pandas-docs/stable/user_guide/indexing.html#returning-a-view-versus-a-copy\n",
            "  self.obj[key] = value\n"
          ]
        }
      ],
      "source": [
        "# Scaling the predictions\n",
        "def scale_function(var):\n",
        "    return((var - min(var))/(max(var) - min(var)))\n",
        "sick_test.loc[:, (\"sim_scaled\")] = scale_function(sick_test.google_sim)\n",
        "sick_test.loc[:, (\"diff\")] = abs(sick_test.sim_scaled - sick_test.sim01)\n",
        "sts_test.loc[:, (\"sim_scaled\")] = scale_function(sts_test.wmd_google)\n",
        "sts_test.loc[:, (\"diff\")] = abs(sts_test.sim_scaled - sts_test.sim01)"
      ]
    },
    {
      "cell_type": "code",
      "source": [
        "# Make the whole length of sentences visible\n",
        "pd.set_option('display.width', None)\n",
        "pd.set_option('display.max_colwidth', None)\n",
        "\n",
        "# Print top 5 worst predictions\n",
        "def print_worst(sim_var, diff_var, dt):\n",
        "    dt.loc[:, (\"index\")] = dt.index\n",
        "    worst = dt.sort_values(by=[diff_var], ascending = False)[\"index\"]\n",
        "    display(dt.iloc[worst[0:5]][[\"sent1\", \"sent2\", \"sent_punct1\", \"sent_punct2\", sim_var, \"sim01\"]])"
      ],
      "metadata": {
        "id": "9R9sjKXEYUZI"
      },
      "execution_count": null,
      "outputs": []
    },
    {
      "cell_type": "code",
      "execution_count": null,
      "metadata": {
        "id": "NyIuJB67Lnqo",
        "colab": {
          "base_uri": "https://localhost:8080/",
          "height": 389
        },
        "outputId": "7f0e2d80-747f-442e-ad40-02449ead5b7b"
      },
      "outputs": [
        {
          "output_type": "display_data",
          "data": {
            "text/plain": [
              "                                                     sent1  \\\n",
              "1988            The person is riding a jetski in the waves   \n",
              "1989              A person is riding a jetski in the waves   \n",
              "3843                         Three people are driving ATVs   \n",
              "1223  A baby rhino is walking around a pen with its mother   \n",
              "808      A man is typing on a machine used for stenography   \n",
              "\n",
              "                                                             sent2  \\\n",
              "1988                                    A woman is riding a Seadoo   \n",
              "1989                                    A woman is riding a Seadoo   \n",
              "3843       Three people are driving four wheel vehicles in a field   \n",
              "1223  A mother is giving the baby a pen with a walking rhino on it   \n",
              "808                           The man isn't operating a stenograph   \n",
              "\n",
              "                               sent_punct1  \\\n",
              "1988            person riding jetski waves   \n",
              "1989            person riding jetski waves   \n",
              "3843             three people driving atvs   \n",
              "1223  baby rhino walking around pen mother   \n",
              "808    man typing machine used stenography   \n",
              "\n",
              "                                         sent_punct2  sim_scaled  sim01  \n",
              "1988                             woman riding seadoo    0.032294  0.825  \n",
              "1989                             woman riding seadoo    0.032294  0.800  \n",
              "3843  three people driving four wheel vehicles field    0.114332  0.800  \n",
              "1223            mother giving baby pen walking rhino    0.954012  0.275  \n",
              "808                         man operating stenograph    0.000000  0.675  "
            ],
            "text/html": [
              "\n",
              "  <div id=\"df-bdf9f54d-70a5-49c5-b18d-4a3168f1ab30\">\n",
              "    <div class=\"colab-df-container\">\n",
              "      <div>\n",
              "<style scoped>\n",
              "    .dataframe tbody tr th:only-of-type {\n",
              "        vertical-align: middle;\n",
              "    }\n",
              "\n",
              "    .dataframe tbody tr th {\n",
              "        vertical-align: top;\n",
              "    }\n",
              "\n",
              "    .dataframe thead th {\n",
              "        text-align: right;\n",
              "    }\n",
              "</style>\n",
              "<table border=\"1\" class=\"dataframe\">\n",
              "  <thead>\n",
              "    <tr style=\"text-align: right;\">\n",
              "      <th></th>\n",
              "      <th>sent1</th>\n",
              "      <th>sent2</th>\n",
              "      <th>sent_punct1</th>\n",
              "      <th>sent_punct2</th>\n",
              "      <th>sim_scaled</th>\n",
              "      <th>sim01</th>\n",
              "    </tr>\n",
              "  </thead>\n",
              "  <tbody>\n",
              "    <tr>\n",
              "      <th>1988</th>\n",
              "      <td>The person is riding a jetski in the waves</td>\n",
              "      <td>A woman is riding a Seadoo</td>\n",
              "      <td>person riding jetski waves</td>\n",
              "      <td>woman riding seadoo</td>\n",
              "      <td>0.032294</td>\n",
              "      <td>0.825</td>\n",
              "    </tr>\n",
              "    <tr>\n",
              "      <th>1989</th>\n",
              "      <td>A person is riding a jetski in the waves</td>\n",
              "      <td>A woman is riding a Seadoo</td>\n",
              "      <td>person riding jetski waves</td>\n",
              "      <td>woman riding seadoo</td>\n",
              "      <td>0.032294</td>\n",
              "      <td>0.800</td>\n",
              "    </tr>\n",
              "    <tr>\n",
              "      <th>3843</th>\n",
              "      <td>Three people are driving ATVs</td>\n",
              "      <td>Three people are driving four wheel vehicles in a field</td>\n",
              "      <td>three people driving atvs</td>\n",
              "      <td>three people driving four wheel vehicles field</td>\n",
              "      <td>0.114332</td>\n",
              "      <td>0.800</td>\n",
              "    </tr>\n",
              "    <tr>\n",
              "      <th>1223</th>\n",
              "      <td>A baby rhino is walking around a pen with its mother</td>\n",
              "      <td>A mother is giving the baby a pen with a walking rhino on it</td>\n",
              "      <td>baby rhino walking around pen mother</td>\n",
              "      <td>mother giving baby pen walking rhino</td>\n",
              "      <td>0.954012</td>\n",
              "      <td>0.275</td>\n",
              "    </tr>\n",
              "    <tr>\n",
              "      <th>808</th>\n",
              "      <td>A man is typing on a machine used for stenography</td>\n",
              "      <td>The man isn't operating a stenograph</td>\n",
              "      <td>man typing machine used stenography</td>\n",
              "      <td>man operating stenograph</td>\n",
              "      <td>0.000000</td>\n",
              "      <td>0.675</td>\n",
              "    </tr>\n",
              "  </tbody>\n",
              "</table>\n",
              "</div>\n",
              "      <button class=\"colab-df-convert\" onclick=\"convertToInteractive('df-bdf9f54d-70a5-49c5-b18d-4a3168f1ab30')\"\n",
              "              title=\"Convert this dataframe to an interactive table.\"\n",
              "              style=\"display:none;\">\n",
              "        \n",
              "  <svg xmlns=\"http://www.w3.org/2000/svg\" height=\"24px\"viewBox=\"0 0 24 24\"\n",
              "       width=\"24px\">\n",
              "    <path d=\"M0 0h24v24H0V0z\" fill=\"none\"/>\n",
              "    <path d=\"M18.56 5.44l.94 2.06.94-2.06 2.06-.94-2.06-.94-.94-2.06-.94 2.06-2.06.94zm-11 1L8.5 8.5l.94-2.06 2.06-.94-2.06-.94L8.5 2.5l-.94 2.06-2.06.94zm10 10l.94 2.06.94-2.06 2.06-.94-2.06-.94-.94-2.06-.94 2.06-2.06.94z\"/><path d=\"M17.41 7.96l-1.37-1.37c-.4-.4-.92-.59-1.43-.59-.52 0-1.04.2-1.43.59L10.3 9.45l-7.72 7.72c-.78.78-.78 2.05 0 2.83L4 21.41c.39.39.9.59 1.41.59.51 0 1.02-.2 1.41-.59l7.78-7.78 2.81-2.81c.8-.78.8-2.07 0-2.86zM5.41 20L4 18.59l7.72-7.72 1.47 1.35L5.41 20z\"/>\n",
              "  </svg>\n",
              "      </button>\n",
              "      \n",
              "  <style>\n",
              "    .colab-df-container {\n",
              "      display:flex;\n",
              "      flex-wrap:wrap;\n",
              "      gap: 12px;\n",
              "    }\n",
              "\n",
              "    .colab-df-convert {\n",
              "      background-color: #E8F0FE;\n",
              "      border: none;\n",
              "      border-radius: 50%;\n",
              "      cursor: pointer;\n",
              "      display: none;\n",
              "      fill: #1967D2;\n",
              "      height: 32px;\n",
              "      padding: 0 0 0 0;\n",
              "      width: 32px;\n",
              "    }\n",
              "\n",
              "    .colab-df-convert:hover {\n",
              "      background-color: #E2EBFA;\n",
              "      box-shadow: 0px 1px 2px rgba(60, 64, 67, 0.3), 0px 1px 3px 1px rgba(60, 64, 67, 0.15);\n",
              "      fill: #174EA6;\n",
              "    }\n",
              "\n",
              "    [theme=dark] .colab-df-convert {\n",
              "      background-color: #3B4455;\n",
              "      fill: #D2E3FC;\n",
              "    }\n",
              "\n",
              "    [theme=dark] .colab-df-convert:hover {\n",
              "      background-color: #434B5C;\n",
              "      box-shadow: 0px 1px 3px 1px rgba(0, 0, 0, 0.15);\n",
              "      filter: drop-shadow(0px 1px 2px rgba(0, 0, 0, 0.3));\n",
              "      fill: #FFFFFF;\n",
              "    }\n",
              "  </style>\n",
              "\n",
              "      <script>\n",
              "        const buttonEl =\n",
              "          document.querySelector('#df-bdf9f54d-70a5-49c5-b18d-4a3168f1ab30 button.colab-df-convert');\n",
              "        buttonEl.style.display =\n",
              "          google.colab.kernel.accessAllowed ? 'block' : 'none';\n",
              "\n",
              "        async function convertToInteractive(key) {\n",
              "          const element = document.querySelector('#df-bdf9f54d-70a5-49c5-b18d-4a3168f1ab30');\n",
              "          const dataTable =\n",
              "            await google.colab.kernel.invokeFunction('convertToInteractive',\n",
              "                                                     [key], {});\n",
              "          if (!dataTable) return;\n",
              "\n",
              "          const docLinkHtml = 'Like what you see? Visit the ' +\n",
              "            '<a target=\"_blank\" href=https://colab.research.google.com/notebooks/data_table.ipynb>data table notebook</a>'\n",
              "            + ' to learn more about interactive tables.';\n",
              "          element.innerHTML = '';\n",
              "          dataTable['output_type'] = 'display_data';\n",
              "          await google.colab.output.renderOutput(dataTable, element);\n",
              "          const docLink = document.createElement('div');\n",
              "          docLink.innerHTML = docLinkHtml;\n",
              "          element.appendChild(docLink);\n",
              "        }\n",
              "      </script>\n",
              "    </div>\n",
              "  </div>\n",
              "  "
            ]
          },
          "metadata": {}
        }
      ],
      "source": [
        "sick_test = sick_test.reset_index(drop=True)\n",
        "print_worst(\"sim_scaled\", \"diff\", sick_test)"
      ]
    },
    {
      "cell_type": "markdown",
      "source": [
        "Jetski, seadoo present? avt present?"
      ],
      "metadata": {
        "id": "hkcnC4xSGXsB"
      }
    },
    {
      "cell_type": "code",
      "execution_count": null,
      "metadata": {
        "id": "-eC5jFU4NOXi",
        "colab": {
          "base_uri": "https://localhost:8080/",
          "height": 354
        },
        "outputId": "0554a251-8e2c-4751-baaf-0f1344bfea2b"
      },
      "outputs": [
        {
          "output_type": "display_data",
          "data": {
            "text/plain": [
              "                                                                                    sent1  \\\n",
              "870                                    You may have to experiment and find what you like.   \n",
              "862   I realized there is already an accepted answer but I figure I would add my 2 cents.   \n",
              "845                                                           It's pretty much up to you.   \n",
              "814                                                                I have the same thing.   \n",
              "1322                                        Croatia begins countdown to historic EU entry   \n",
              "\n",
              "                                                                   sent2  \\\n",
              "870                             You have to find out what works for you.   \n",
              "862   I know this is an old question but I feel I should add my 2 cents.   \n",
              "845                                                     It is up to you.   \n",
              "814                                       I have the exact same problem.   \n",
              "1322                                    Croatia countdowns to joining EU   \n",
              "\n",
              "                                                    sent_punct1  \\\n",
              "870                                    may experiment find like   \n",
              "862   realized already accepted answer figure would add 2 cents   \n",
              "845                                             pretty much you   \n",
              "814                                                       thing   \n",
              "1322                 croatia begins countdown historic eu entry   \n",
              "\n",
              "                             sent_punct2  sim_scaled  sim01  \n",
              "870                       find works you    0.286771   1.00  \n",
              "862   know old question feel add 2 cents    0.328770   1.00  \n",
              "845                                  you    0.346260   1.00  \n",
              "814                        exact problem    0.151690   0.80  \n",
              "1322       croatia countdowns joining eu    0.314975   0.96  "
            ],
            "text/html": [
              "\n",
              "  <div id=\"df-e3ff77e6-7258-4b26-8fda-a7ce6002cf2f\">\n",
              "    <div class=\"colab-df-container\">\n",
              "      <div>\n",
              "<style scoped>\n",
              "    .dataframe tbody tr th:only-of-type {\n",
              "        vertical-align: middle;\n",
              "    }\n",
              "\n",
              "    .dataframe tbody tr th {\n",
              "        vertical-align: top;\n",
              "    }\n",
              "\n",
              "    .dataframe thead th {\n",
              "        text-align: right;\n",
              "    }\n",
              "</style>\n",
              "<table border=\"1\" class=\"dataframe\">\n",
              "  <thead>\n",
              "    <tr style=\"text-align: right;\">\n",
              "      <th></th>\n",
              "      <th>sent1</th>\n",
              "      <th>sent2</th>\n",
              "      <th>sent_punct1</th>\n",
              "      <th>sent_punct2</th>\n",
              "      <th>sim_scaled</th>\n",
              "      <th>sim01</th>\n",
              "    </tr>\n",
              "  </thead>\n",
              "  <tbody>\n",
              "    <tr>\n",
              "      <th>870</th>\n",
              "      <td>You may have to experiment and find what you like.</td>\n",
              "      <td>You have to find out what works for you.</td>\n",
              "      <td>may experiment find like</td>\n",
              "      <td>find works you</td>\n",
              "      <td>0.286771</td>\n",
              "      <td>1.00</td>\n",
              "    </tr>\n",
              "    <tr>\n",
              "      <th>862</th>\n",
              "      <td>I realized there is already an accepted answer but I figure I would add my 2 cents.</td>\n",
              "      <td>I know this is an old question but I feel I should add my 2 cents.</td>\n",
              "      <td>realized already accepted answer figure would add 2 cents</td>\n",
              "      <td>know old question feel add 2 cents</td>\n",
              "      <td>0.328770</td>\n",
              "      <td>1.00</td>\n",
              "    </tr>\n",
              "    <tr>\n",
              "      <th>845</th>\n",
              "      <td>It's pretty much up to you.</td>\n",
              "      <td>It is up to you.</td>\n",
              "      <td>pretty much you</td>\n",
              "      <td>you</td>\n",
              "      <td>0.346260</td>\n",
              "      <td>1.00</td>\n",
              "    </tr>\n",
              "    <tr>\n",
              "      <th>814</th>\n",
              "      <td>I have the same thing.</td>\n",
              "      <td>I have the exact same problem.</td>\n",
              "      <td>thing</td>\n",
              "      <td>exact problem</td>\n",
              "      <td>0.151690</td>\n",
              "      <td>0.80</td>\n",
              "    </tr>\n",
              "    <tr>\n",
              "      <th>1322</th>\n",
              "      <td>Croatia begins countdown to historic EU entry</td>\n",
              "      <td>Croatia countdowns to joining EU</td>\n",
              "      <td>croatia begins countdown historic eu entry</td>\n",
              "      <td>croatia countdowns joining eu</td>\n",
              "      <td>0.314975</td>\n",
              "      <td>0.96</td>\n",
              "    </tr>\n",
              "  </tbody>\n",
              "</table>\n",
              "</div>\n",
              "      <button class=\"colab-df-convert\" onclick=\"convertToInteractive('df-e3ff77e6-7258-4b26-8fda-a7ce6002cf2f')\"\n",
              "              title=\"Convert this dataframe to an interactive table.\"\n",
              "              style=\"display:none;\">\n",
              "        \n",
              "  <svg xmlns=\"http://www.w3.org/2000/svg\" height=\"24px\"viewBox=\"0 0 24 24\"\n",
              "       width=\"24px\">\n",
              "    <path d=\"M0 0h24v24H0V0z\" fill=\"none\"/>\n",
              "    <path d=\"M18.56 5.44l.94 2.06.94-2.06 2.06-.94-2.06-.94-.94-2.06-.94 2.06-2.06.94zm-11 1L8.5 8.5l.94-2.06 2.06-.94-2.06-.94L8.5 2.5l-.94 2.06-2.06.94zm10 10l.94 2.06.94-2.06 2.06-.94-2.06-.94-.94-2.06-.94 2.06-2.06.94z\"/><path d=\"M17.41 7.96l-1.37-1.37c-.4-.4-.92-.59-1.43-.59-.52 0-1.04.2-1.43.59L10.3 9.45l-7.72 7.72c-.78.78-.78 2.05 0 2.83L4 21.41c.39.39.9.59 1.41.59.51 0 1.02-.2 1.41-.59l7.78-7.78 2.81-2.81c.8-.78.8-2.07 0-2.86zM5.41 20L4 18.59l7.72-7.72 1.47 1.35L5.41 20z\"/>\n",
              "  </svg>\n",
              "      </button>\n",
              "      \n",
              "  <style>\n",
              "    .colab-df-container {\n",
              "      display:flex;\n",
              "      flex-wrap:wrap;\n",
              "      gap: 12px;\n",
              "    }\n",
              "\n",
              "    .colab-df-convert {\n",
              "      background-color: #E8F0FE;\n",
              "      border: none;\n",
              "      border-radius: 50%;\n",
              "      cursor: pointer;\n",
              "      display: none;\n",
              "      fill: #1967D2;\n",
              "      height: 32px;\n",
              "      padding: 0 0 0 0;\n",
              "      width: 32px;\n",
              "    }\n",
              "\n",
              "    .colab-df-convert:hover {\n",
              "      background-color: #E2EBFA;\n",
              "      box-shadow: 0px 1px 2px rgba(60, 64, 67, 0.3), 0px 1px 3px 1px rgba(60, 64, 67, 0.15);\n",
              "      fill: #174EA6;\n",
              "    }\n",
              "\n",
              "    [theme=dark] .colab-df-convert {\n",
              "      background-color: #3B4455;\n",
              "      fill: #D2E3FC;\n",
              "    }\n",
              "\n",
              "    [theme=dark] .colab-df-convert:hover {\n",
              "      background-color: #434B5C;\n",
              "      box-shadow: 0px 1px 3px 1px rgba(0, 0, 0, 0.15);\n",
              "      filter: drop-shadow(0px 1px 2px rgba(0, 0, 0, 0.3));\n",
              "      fill: #FFFFFF;\n",
              "    }\n",
              "  </style>\n",
              "\n",
              "      <script>\n",
              "        const buttonEl =\n",
              "          document.querySelector('#df-e3ff77e6-7258-4b26-8fda-a7ce6002cf2f button.colab-df-convert');\n",
              "        buttonEl.style.display =\n",
              "          google.colab.kernel.accessAllowed ? 'block' : 'none';\n",
              "\n",
              "        async function convertToInteractive(key) {\n",
              "          const element = document.querySelector('#df-e3ff77e6-7258-4b26-8fda-a7ce6002cf2f');\n",
              "          const dataTable =\n",
              "            await google.colab.kernel.invokeFunction('convertToInteractive',\n",
              "                                                     [key], {});\n",
              "          if (!dataTable) return;\n",
              "\n",
              "          const docLinkHtml = 'Like what you see? Visit the ' +\n",
              "            '<a target=\"_blank\" href=https://colab.research.google.com/notebooks/data_table.ipynb>data table notebook</a>'\n",
              "            + ' to learn more about interactive tables.';\n",
              "          element.innerHTML = '';\n",
              "          dataTable['output_type'] = 'display_data';\n",
              "          await google.colab.output.renderOutput(dataTable, element);\n",
              "          const docLink = document.createElement('div');\n",
              "          docLink.innerHTML = docLinkHtml;\n",
              "          element.appendChild(docLink);\n",
              "        }\n",
              "      </script>\n",
              "    </div>\n",
              "  </div>\n",
              "  "
            ]
          },
          "metadata": {}
        }
      ],
      "source": [
        "sts_test = sts_test.reset_index(drop=True)\n",
        "print_worst(\"sim_scaled\", \"diff\", sts_test)"
      ]
    },
    {
      "cell_type": "markdown",
      "source": [
        "## Closest words to \"experiment\""
      ],
      "metadata": {
        "id": "TmtK0DrnvKsX"
      }
    },
    {
      "cell_type": "code",
      "source": [
        "# Vectors for words of interest\n",
        "experiment = google_news_vectors[\"experiment\"]\n",
        "science = google_news_vectors[\"science\"]\n",
        "find = google_news_vectors[\"find\"]\n",
        "work = google_news_vectors[\"work\"]\n",
        "procedure = google_news_vectors[\"procedure\"]\n",
        "study = google_news_vectors[\"study\"]\n",
        "test = google_news_vectors[\"test\"]\n",
        "prototype = google_news_vectors[\"prototype\"]\n",
        "randomise = google_news_vectors[\"randomise\"]"
      ],
      "metadata": {
        "id": "6lZPgMRpYcSK"
      },
      "execution_count": null,
      "outputs": []
    },
    {
      "cell_type": "code",
      "source": [
        "# Combining all words into a list\n",
        "all_wrds = [experiment, science, find, work, procedure, study, test, prototype, randomise]\n",
        "vecs_example = np.zeros((len(all_wrds), 300))\n",
        "for nb, wrd in enumerate(all_wrds):\n",
        "    vecs_example[nb] = wrd\n",
        "# PCA\n",
        "pca = PCA(n_components=2)\n",
        "pca_example = pca.fit_transform(vecs_example)\n",
        "# Normalising\n",
        "normalized = normalize(pca_example, norm='l2')\n",
        "# Adding some noise for plotting purposes\n",
        "normalized = normalized + np.random.normal(loc=0, scale = 0.15, size= pca_example.shape)"
      ],
      "metadata": {
        "id": "RRIJNJPeiulv"
      },
      "execution_count": null,
      "outputs": []
    },
    {
      "cell_type": "code",
      "source": [
        "fig = plt.figure(figsize=(6, 5))\n",
        "ax = fig.add_subplot(111)\n",
        "ax.set_ylim([-1.3,1.3])\n",
        "ax.set_xlim([-1.3,1.3])\n",
        "for nb, wrd in enumerate([\"experiment\", \"science\", \"find\", \"work\", \"procedure\", \"study\", \"test\",\n",
        "                          \"prototype\", \"randomise\"]):\n",
        "    ax.annotate(s = wrd, xy=(0, 0) , xytext=(normalized[nb][0], normalized[nb][1]), \n",
        "                arrowprops=dict(arrowstyle=\"<-\"), ha='right', va='center', size = 12)\n",
        "ax.axes.xaxis.set_visible(False)\n",
        "ax.axes.yaxis.set_visible(False)\n",
        "# fig.savefig('experiment.pdf', bbox_inches='tight') "
      ],
      "metadata": {
        "colab": {
          "base_uri": "https://localhost:8080/",
          "height": 306
        },
        "id": "TVgWG4qQiEeX",
        "outputId": "3daec667-840e-49ba-c879-6c5ec739935d"
      },
      "execution_count": null,
      "outputs": [
        {
          "output_type": "display_data",
          "data": {
            "text/plain": [
              "<Figure size 432x360 with 1 Axes>"
            ],
            "image/png": "[encoded data removed]"
          },
          "metadata": {
            "needs_background": "light"
          }
        }
      ]
    },
    {
      "cell_type": "code",
      "source": [
        "google_news_vectors.most_similar([\"experiment\"], topn = 100)"
      ],
      "metadata": {
        "colab": {
          "base_uri": "https://localhost:8080/"
        },
        "id": "zJza9DAvjxYm",
        "outputId": "49edbd7d-da71-465b-931a-d945df20f3a2"
      },
      "execution_count": null,
      "outputs": [
        {
          "output_type": "execute_result",
          "data": {
            "text/plain": [
              "[('experiments', 0.7225676774978638),\n",
              " ('Experiment', 0.5934476852416992),\n",
              " ('experimentation', 0.563130259513855),\n",
              " ('experiement', 0.5486840605735779),\n",
              " ('Experiments', 0.5407910346984863),\n",
              " ('experimental', 0.5351316928863525),\n",
              " ('experimenting', 0.5166691541671753),\n",
              " ('experimenters', 0.5019431114196777),\n",
              " ('experimented', 0.489100843667984),\n",
              " ('laboratory_experiments', 0.4864266514778137),\n",
              " ('experimentations', 0.46196818351745605),\n",
              " ('experimentally', 0.4419797658920288),\n",
              " ('study', 0.44044411182403564),\n",
              " ('Biofuel_Blast', 0.42870762944221497),\n",
              " ('Joint_Expeditionary_Force', 0.4244947135448456),\n",
              " ('petri_dish', 0.41965997219085693),\n",
              " ('supercomputer_simulations', 0.41674667596817017),\n",
              " ('Benthic_Rover', 0.41673120856285095),\n",
              " ('Milgram_experiment', 0.41433343291282654),\n",
              " ('frog_dissection', 0.4136706292629242),\n",
              " ('concept', 0.4126122295856476),\n",
              " ('Petri_dish', 0.40942031145095825),\n",
              " ('test', 0.40884193778038025),\n",
              " ('Experimenting', 0.40857747197151184),\n",
              " ('Dr_Ehrsson', 0.40844660997390747),\n",
              " ('sociological_experiment', 0.40496009588241577),\n",
              " ('Duane_Varan', 0.4045674800872803),\n",
              " ('lab_rats', 0.4041706323623657),\n",
              " ('MaryEllen_Elia_superintendent', 0.4031551778316498),\n",
              " ('atom_smashers', 0.40020450949668884),\n",
              " ('guinea_pig', 0.39925140142440796),\n",
              " ('contraption', 0.39839544892311096),\n",
              " ('Dalcanton', 0.3954704701900482),\n",
              " ('Solid_Liquid_Mixtures', 0.3953780233860016),\n",
              " ('Dava_Newman', 0.3941320478916168),\n",
              " ('dropping_Mentos_candies', 0.3934612572193146),\n",
              " ('guinea_pigs', 0.39260220527648926),\n",
              " ('quantum_weirdness', 0.392589807510376),\n",
              " ('Large_Scale_Biosphere_Atmosphere', 0.39134472608566284),\n",
              " ('shadow_biosphere', 0.39044517278671265),\n",
              " ('testbed', 0.3902001976966858),\n",
              " ('Particle_physics', 0.3882990777492523),\n",
              " ('Soldier_Nanotechnologies_ISN', 0.38587847352027893),\n",
              " ('mouse_oocytes', 0.3856346905231476),\n",
              " ('comparative_anatomy', 0.38559240102767944),\n",
              " ('Benjamin_Libet', 0.38495731353759766),\n",
              " ('chemical_syntheses', 0.38479915261268616),\n",
              " ('Markram', 0.38439133763313293),\n",
              " ('stopgap_triage', 0.3838237226009369),\n",
              " ('quantum_teleportation', 0.3835718035697937),\n",
              " ('Cees_Dekker', 0.38339975476264954),\n",
              " ('NEEMO_missions', 0.38256072998046875),\n",
              " ('incubations', 0.38191258907318115),\n",
              " ('gamble', 0.38150498270988464),\n",
              " ('Mars###', 0.38127371668815613),\n",
              " ('observational_study', 0.3812420964241028),\n",
              " ('Main_Injector_Neutrino', 0.3812020421028137),\n",
              " ('SyNAPSE', 0.38091227412223816),\n",
              " ('genetic_manipulations', 0.37975063920021057),\n",
              " ('Walter_Mischel', 0.37946295738220215),\n",
              " ('randomise', 0.3792201578617096),\n",
              " ('linear_collider', 0.37914037704467773),\n",
              " ('unplanned_spacewalk', 0.37867772579193115),\n",
              " ('Enough_Norby', 0.37775734066963196),\n",
              " ('LOCAD_PTS', 0.37722349166870117),\n",
              " ('nanodevice', 0.3771359324455261),\n",
              " ('Michelson_Morley', 0.37678977847099304),\n",
              " ('exobiology', 0.37625840306282043),\n",
              " ('Symyx_microscale_parallel', 0.3761287033557892),\n",
              " ('Frankencamera', 0.3760491609573364),\n",
              " ('Project_BudBurst', 0.375560998916626),\n",
              " ('ultracentrifuge', 0.37524837255477905),\n",
              " ('patterning_technique', 0.37477007508277893),\n",
              " ('Morukov', 0.37437471747398376),\n",
              " ('experimenter', 0.37435463070869446),\n",
              " ('Higgs_bosons', 0.37432944774627686),\n",
              " ('fruitflies', 0.3741075396537781),\n",
              " ('Genome_sequencing', 0.37369582056999207),\n",
              " ('genetically_tractable', 0.3734733462333679),\n",
              " ('Riedel_Kruse', 0.37345537543296814),\n",
              " ('simulated_weightlessness', 0.3731776177883148),\n",
              " ('genetically_engineer', 0.372501403093338),\n",
              " ('Morewedge', 0.37214016914367676),\n",
              " ('Project_Stormfury', 0.37178871035575867),\n",
              " ('researchers', 0.371572345495224),\n",
              " ('Mars###_experiment', 0.37123653292655945),\n",
              " ('Substorms_mission', 0.37102118134498596),\n",
              " ('vitro_experiments', 0.3708541989326477),\n",
              " ('GeneSat', 0.3700341284275055),\n",
              " ('studies', 0.36979252099990845),\n",
              " ('microgravity_experiments', 0.3693423569202423),\n",
              " ('planetary_Transits', 0.3692356050014496),\n",
              " ('neutrino_experiment', 0.3689627945423126),\n",
              " ('shotgun_sequencing', 0.3689021170139313),\n",
              " ('vitro_maturation_IVM', 0.3688548505306244),\n",
              " ('psychologist_Loran_Nordgren', 0.36824363470077515),\n",
              " ('Experimentation', 0.36819586157798767),\n",
              " ('prototype', 0.36808720231056213),\n",
              " ('faraway_planets', 0.3672615885734558),\n",
              " ('TaintDroid', 0.3671363592147827)]"
            ]
          },
          "metadata": {},
          "execution_count": 31
        }
      ]
    },
    {
      "cell_type": "code",
      "source": [
        ""
      ],
      "metadata": {
        "id": "44MvIcgVkbJH"
      },
      "execution_count": null,
      "outputs": []
    }
  ],
  "metadata": {
    "colab": {
      "collapsed_sections": [],
      "name": "all_comparison.ipynb",
      "provenance": []
    },
    "kernelspec": {
      "display_name": "Python 3 (ipykernel)",
      "language": "python",
      "name": "python3"
    },
    "language_info": {
      "codemirror_mode": {
        "name": "ipython",
        "version": 3
      },
      "file_extension": ".py",
      "mimetype": "text/x-python",
      "name": "python",
      "nbconvert_exporter": "python",
      "pygments_lexer": "ipython3",
      "version": "3.8.3"
    },
    "widgets": {
      "application/vnd.jupyter.widget-state+json": {
        "b0b49e7829ac4fd0beee2d076e00e146": {
          "model_module": "@jupyter-widgets/controls",
          "model_name": "HBoxModel",
          "model_module_version": "1.5.0",
          "state": {
            "_dom_classes": [],
            "_model_module": "@jupyter-widgets/controls",
            "_model_module_version": "1.5.0",
            "_model_name": "HBoxModel",
            "_view_count": null,
            "_view_module": "@jupyter-widgets/controls",
            "_view_module_version": "1.5.0",
            "_view_name": "HBoxView",
            "box_style": "",
            "children": [
              "IPY_MODEL_513c169764714e29b112f3a37e9885a7",
              "IPY_MODEL_224ef226b6e84137ade9c0e5048d9bdf",
              "IPY_MODEL_f3a48588b62946e09953c12160a00651"
            ],
            "layout": "IPY_MODEL_6d5b8db16bc44221969d702fd6f59582"
          }
        },
        "513c169764714e29b112f3a37e9885a7": {
          "model_module": "@jupyter-widgets/controls",
          "model_name": "HTMLModel",
          "model_module_version": "1.5.0",
          "state": {
            "_dom_classes": [],
            "_model_module": "@jupyter-widgets/controls",
            "_model_module_version": "1.5.0",
            "_model_name": "HTMLModel",
            "_view_count": null,
            "_view_module": "@jupyter-widgets/controls",
            "_view_module_version": "1.5.0",
            "_view_name": "HTMLView",
            "description": "",
            "description_tooltip": null,
            "layout": "IPY_MODEL_175ebc95e045440c8fecf64908df4142",
            "placeholder": "​",
            "style": "IPY_MODEL_4490b1093b664bb497c258216bcfce6c",
            "value": "Downloading: 100%"
          }
        },
        "224ef226b6e84137ade9c0e5048d9bdf": {
          "model_module": "@jupyter-widgets/controls",
          "model_name": "FloatProgressModel",
          "model_module_version": "1.5.0",
          "state": {
            "_dom_classes": [],
            "_model_module": "@jupyter-widgets/controls",
            "_model_module_version": "1.5.0",
            "_model_name": "FloatProgressModel",
            "_view_count": null,
            "_view_module": "@jupyter-widgets/controls",
            "_view_module_version": "1.5.0",
            "_view_name": "ProgressView",
            "bar_style": "success",
            "description": "",
            "description_tooltip": null,
            "layout": "IPY_MODEL_e2c038d09ca04b288107f69a0162e238",
            "max": 231508,
            "min": 0,
            "orientation": "horizontal",
            "style": "IPY_MODEL_b078e375dbe24c35aa487f76812aa48c",
            "value": 231508
          }
        },
        "f3a48588b62946e09953c12160a00651": {
          "model_module": "@jupyter-widgets/controls",
          "model_name": "HTMLModel",
          "model_module_version": "1.5.0",
          "state": {
            "_dom_classes": [],
            "_model_module": "@jupyter-widgets/controls",
            "_model_module_version": "1.5.0",
            "_model_name": "HTMLModel",
            "_view_count": null,
            "_view_module": "@jupyter-widgets/controls",
            "_view_module_version": "1.5.0",
            "_view_name": "HTMLView",
            "description": "",
            "description_tooltip": null,
            "layout": "IPY_MODEL_4b0857fb69cd45659444433e78114144",
            "placeholder": "​",
            "style": "IPY_MODEL_7c5559ecda054dd6808a8baf1a22275e",
            "value": " 226k/226k [00:00&lt;00:00, 552kB/s]"
          }
        },
        "6d5b8db16bc44221969d702fd6f59582": {
          "model_module": "@jupyter-widgets/base",
          "model_name": "LayoutModel",
          "model_module_version": "1.2.0",
          "state": {
            "_model_module": "@jupyter-widgets/base",
            "_model_module_version": "1.2.0",
            "_model_name": "LayoutModel",
            "_view_count": null,
            "_view_module": "@jupyter-widgets/base",
            "_view_module_version": "1.2.0",
            "_view_name": "LayoutView",
            "align_content": null,
            "align_items": null,
            "align_self": null,
            "border": null,
            "bottom": null,
            "display": null,
            "flex": null,
            "flex_flow": null,
            "grid_area": null,
            "grid_auto_columns": null,
            "grid_auto_flow": null,
            "grid_auto_rows": null,
            "grid_column": null,
            "grid_gap": null,
            "grid_row": null,
            "grid_template_areas": null,
            "grid_template_columns": null,
            "grid_template_rows": null,
            "height": null,
            "justify_content": null,
            "justify_items": null,
            "left": null,
            "margin": null,
            "max_height": null,
            "max_width": null,
            "min_height": null,
            "min_width": null,
            "object_fit": null,
            "object_position": null,
            "order": null,
            "overflow": null,
            "overflow_x": null,
            "overflow_y": null,
            "padding": null,
            "right": null,
            "top": null,
            "visibility": null,
            "width": null
          }
        },
        "175ebc95e045440c8fecf64908df4142": {
          "model_module": "@jupyter-widgets/base",
          "model_name": "LayoutModel",
          "model_module_version": "1.2.0",
          "state": {
            "_model_module": "@jupyter-widgets/base",
            "_model_module_version": "1.2.0",
            "_model_name": "LayoutModel",
            "_view_count": null,
            "_view_module": "@jupyter-widgets/base",
            "_view_module_version": "1.2.0",
            "_view_name": "LayoutView",
            "align_content": null,
            "align_items": null,
            "align_self": null,
            "border": null,
            "bottom": null,
            "display": null,
            "flex": null,
            "flex_flow": null,
            "grid_area": null,
            "grid_auto_columns": null,
            "grid_auto_flow": null,
            "grid_auto_rows": null,
            "grid_column": null,
            "grid_gap": null,
            "grid_row": null,
            "grid_template_areas": null,
            "grid_template_columns": null,
            "grid_template_rows": null,
            "height": null,
            "justify_content": null,
            "justify_items": null,
            "left": null,
            "margin": null,
            "max_height": null,
            "max_width": null,
            "min_height": null,
            "min_width": null,
            "object_fit": null,
            "object_position": null,
            "order": null,
            "overflow": null,
            "overflow_x": null,
            "overflow_y": null,
            "padding": null,
            "right": null,
            "top": null,
            "visibility": null,
            "width": null
          }
        },
        "4490b1093b664bb497c258216bcfce6c": {
          "model_module": "@jupyter-widgets/controls",
          "model_name": "DescriptionStyleModel",
          "model_module_version": "1.5.0",
          "state": {
            "_model_module": "@jupyter-widgets/controls",
            "_model_module_version": "1.5.0",
            "_model_name": "DescriptionStyleModel",
            "_view_count": null,
            "_view_module": "@jupyter-widgets/base",
            "_view_module_version": "1.2.0",
            "_view_name": "StyleView",
            "description_width": ""
          }
        },
        "e2c038d09ca04b288107f69a0162e238": {
          "model_module": "@jupyter-widgets/base",
          "model_name": "LayoutModel",
          "model_module_version": "1.2.0",
          "state": {
            "_model_module": "@jupyter-widgets/base",
            "_model_module_version": "1.2.0",
            "_model_name": "LayoutModel",
            "_view_count": null,
            "_view_module": "@jupyter-widgets/base",
            "_view_module_version": "1.2.0",
            "_view_name": "LayoutView",
            "align_content": null,
            "align_items": null,
            "align_self": null,
            "border": null,
            "bottom": null,
            "display": null,
            "flex": null,
            "flex_flow": null,
            "grid_area": null,
            "grid_auto_columns": null,
            "grid_auto_flow": null,
            "grid_auto_rows": null,
            "grid_column": null,
            "grid_gap": null,
            "grid_row": null,
            "grid_template_areas": null,
            "grid_template_columns": null,
            "grid_template_rows": null,
            "height": null,
            "justify_content": null,
            "justify_items": null,
            "left": null,
            "margin": null,
            "max_height": null,
            "max_width": null,
            "min_height": null,
            "min_width": null,
            "object_fit": null,
            "object_position": null,
            "order": null,
            "overflow": null,
            "overflow_x": null,
            "overflow_y": null,
            "padding": null,
            "right": null,
            "top": null,
            "visibility": null,
            "width": null
          }
        },
        "b078e375dbe24c35aa487f76812aa48c": {
          "model_module": "@jupyter-widgets/controls",
          "model_name": "ProgressStyleModel",
          "model_module_version": "1.5.0",
          "state": {
            "_model_module": "@jupyter-widgets/controls",
            "_model_module_version": "1.5.0",
            "_model_name": "ProgressStyleModel",
            "_view_count": null,
            "_view_module": "@jupyter-widgets/base",
            "_view_module_version": "1.2.0",
            "_view_name": "StyleView",
            "bar_color": null,
            "description_width": ""
          }
        },
        "4b0857fb69cd45659444433e78114144": {
          "model_module": "@jupyter-widgets/base",
          "model_name": "LayoutModel",
          "model_module_version": "1.2.0",
          "state": {
            "_model_module": "@jupyter-widgets/base",
            "_model_module_version": "1.2.0",
            "_model_name": "LayoutModel",
            "_view_count": null,
            "_view_module": "@jupyter-widgets/base",
            "_view_module_version": "1.2.0",
            "_view_name": "LayoutView",
            "align_content": null,
            "align_items": null,
            "align_self": null,
            "border": null,
            "bottom": null,
            "display": null,
            "flex": null,
            "flex_flow": null,
            "grid_area": null,
            "grid_auto_columns": null,
            "grid_auto_flow": null,
            "grid_auto_rows": null,
            "grid_column": null,
            "grid_gap": null,
            "grid_row": null,
            "grid_template_areas": null,
            "grid_template_columns": null,
            "grid_template_rows": null,
            "height": null,
            "justify_content": null,
            "justify_items": null,
            "left": null,
            "margin": null,
            "max_height": null,
            "max_width": null,
            "min_height": null,
            "min_width": null,
            "object_fit": null,
            "object_position": null,
            "order": null,
            "overflow": null,
            "overflow_x": null,
            "overflow_y": null,
            "padding": null,
            "right": null,
            "top": null,
            "visibility": null,
            "width": null
          }
        },
        "7c5559ecda054dd6808a8baf1a22275e": {
          "model_module": "@jupyter-widgets/controls",
          "model_name": "DescriptionStyleModel",
          "model_module_version": "1.5.0",
          "state": {
            "_model_module": "@jupyter-widgets/controls",
            "_model_module_version": "1.5.0",
            "_model_name": "DescriptionStyleModel",
            "_view_count": null,
            "_view_module": "@jupyter-widgets/base",
            "_view_module_version": "1.2.0",
            "_view_name": "StyleView",
            "description_width": ""
          }
        },
        "b8008b58ae4b4ca79a9606681f704c95": {
          "model_module": "@jupyter-widgets/controls",
          "model_name": "HBoxModel",
          "model_module_version": "1.5.0",
          "state": {
            "_dom_classes": [],
            "_model_module": "@jupyter-widgets/controls",
            "_model_module_version": "1.5.0",
            "_model_name": "HBoxModel",
            "_view_count": null,
            "_view_module": "@jupyter-widgets/controls",
            "_view_module_version": "1.5.0",
            "_view_name": "HBoxView",
            "box_style": "",
            "children": [
              "IPY_MODEL_01391510c88745b59d9fdbad1c5aff26",
              "IPY_MODEL_11687bebc14849909d87fe0270314ca3",
              "IPY_MODEL_296865a9192b42a0a893fa364e155109"
            ],
            "layout": "IPY_MODEL_28406688b5f349bda0beaec9d8aaa184"
          }
        },
        "01391510c88745b59d9fdbad1c5aff26": {
          "model_module": "@jupyter-widgets/controls",
          "model_name": "HTMLModel",
          "model_module_version": "1.5.0",
          "state": {
            "_dom_classes": [],
            "_model_module": "@jupyter-widgets/controls",
            "_model_module_version": "1.5.0",
            "_model_name": "HTMLModel",
            "_view_count": null,
            "_view_module": "@jupyter-widgets/controls",
            "_view_module_version": "1.5.0",
            "_view_name": "HTMLView",
            "description": "",
            "description_tooltip": null,
            "layout": "IPY_MODEL_786e0f96693249d4b20f368d2bf53897",
            "placeholder": "​",
            "style": "IPY_MODEL_db610d4552364d67abfa2b591b154424",
            "value": "Downloading: 100%"
          }
        },
        "11687bebc14849909d87fe0270314ca3": {
          "model_module": "@jupyter-widgets/controls",
          "model_name": "FloatProgressModel",
          "model_module_version": "1.5.0",
          "state": {
            "_dom_classes": [],
            "_model_module": "@jupyter-widgets/controls",
            "_model_module_version": "1.5.0",
            "_model_name": "FloatProgressModel",
            "_view_count": null,
            "_view_module": "@jupyter-widgets/controls",
            "_view_module_version": "1.5.0",
            "_view_name": "ProgressView",
            "bar_style": "success",
            "description": "",
            "description_tooltip": null,
            "layout": "IPY_MODEL_6f7a03903de043a9b68293f556bd332b",
            "max": 28,
            "min": 0,
            "orientation": "horizontal",
            "style": "IPY_MODEL_1118362c3281403c93528959cb3a001d",
            "value": 28
          }
        },
        "296865a9192b42a0a893fa364e155109": {
          "model_module": "@jupyter-widgets/controls",
          "model_name": "HTMLModel",
          "model_module_version": "1.5.0",
          "state": {
            "_dom_classes": [],
            "_model_module": "@jupyter-widgets/controls",
            "_model_module_version": "1.5.0",
            "_model_name": "HTMLModel",
            "_view_count": null,
            "_view_module": "@jupyter-widgets/controls",
            "_view_module_version": "1.5.0",
            "_view_name": "HTMLView",
            "description": "",
            "description_tooltip": null,
            "layout": "IPY_MODEL_f8ad29e5bb924eb7a8543c996ba0bf03",
            "placeholder": "​",
            "style": "IPY_MODEL_c32a317568324606adde9eee46f78277",
            "value": " 28.0/28.0 [00:00&lt;00:00, 248B/s]"
          }
        },
        "28406688b5f349bda0beaec9d8aaa184": {
          "model_module": "@jupyter-widgets/base",
          "model_name": "LayoutModel",
          "model_module_version": "1.2.0",
          "state": {
            "_model_module": "@jupyter-widgets/base",
            "_model_module_version": "1.2.0",
            "_model_name": "LayoutModel",
            "_view_count": null,
            "_view_module": "@jupyter-widgets/base",
            "_view_module_version": "1.2.0",
            "_view_name": "LayoutView",
            "align_content": null,
            "align_items": null,
            "align_self": null,
            "border": null,
            "bottom": null,
            "display": null,
            "flex": null,
            "flex_flow": null,
            "grid_area": null,
            "grid_auto_columns": null,
            "grid_auto_flow": null,
            "grid_auto_rows": null,
            "grid_column": null,
            "grid_gap": null,
            "grid_row": null,
            "grid_template_areas": null,
            "grid_template_columns": null,
            "grid_template_rows": null,
            "height": null,
            "justify_content": null,
            "justify_items": null,
            "left": null,
            "margin": null,
            "max_height": null,
            "max_width": null,
            "min_height": null,
            "min_width": null,
            "object_fit": null,
            "object_position": null,
            "order": null,
            "overflow": null,
            "overflow_x": null,
            "overflow_y": null,
            "padding": null,
            "right": null,
            "top": null,
            "visibility": null,
            "width": null
          }
        },
        "786e0f96693249d4b20f368d2bf53897": {
          "model_module": "@jupyter-widgets/base",
          "model_name": "LayoutModel",
          "model_module_version": "1.2.0",
          "state": {
            "_model_module": "@jupyter-widgets/base",
            "_model_module_version": "1.2.0",
            "_model_name": "LayoutModel",
            "_view_count": null,
            "_view_module": "@jupyter-widgets/base",
            "_view_module_version": "1.2.0",
            "_view_name": "LayoutView",
            "align_content": null,
            "align_items": null,
            "align_self": null,
            "border": null,
            "bottom": null,
            "display": null,
            "flex": null,
            "flex_flow": null,
            "grid_area": null,
            "grid_auto_columns": null,
            "grid_auto_flow": null,
            "grid_auto_rows": null,
            "grid_column": null,
            "grid_gap": null,
            "grid_row": null,
            "grid_template_areas": null,
            "grid_template_columns": null,
            "grid_template_rows": null,
            "height": null,
            "justify_content": null,
            "justify_items": null,
            "left": null,
            "margin": null,
            "max_height": null,
            "max_width": null,
            "min_height": null,
            "min_width": null,
            "object_fit": null,
            "object_position": null,
            "order": null,
            "overflow": null,
            "overflow_x": null,
            "overflow_y": null,
            "padding": null,
            "right": null,
            "top": null,
            "visibility": null,
            "width": null
          }
        },
        "db610d4552364d67abfa2b591b154424": {
          "model_module": "@jupyter-widgets/controls",
          "model_name": "DescriptionStyleModel",
          "model_module_version": "1.5.0",
          "state": {
            "_model_module": "@jupyter-widgets/controls",
            "_model_module_version": "1.5.0",
            "_model_name": "DescriptionStyleModel",
            "_view_count": null,
            "_view_module": "@jupyter-widgets/base",
            "_view_module_version": "1.2.0",
            "_view_name": "StyleView",
            "description_width": ""
          }
        },
        "6f7a03903de043a9b68293f556bd332b": {
          "model_module": "@jupyter-widgets/base",
          "model_name": "LayoutModel",
          "model_module_version": "1.2.0",
          "state": {
            "_model_module": "@jupyter-widgets/base",
            "_model_module_version": "1.2.0",
            "_model_name": "LayoutModel",
            "_view_count": null,
            "_view_module": "@jupyter-widgets/base",
            "_view_module_version": "1.2.0",
            "_view_name": "LayoutView",
            "align_content": null,
            "align_items": null,
            "align_self": null,
            "border": null,
            "bottom": null,
            "display": null,
            "flex": null,
            "flex_flow": null,
            "grid_area": null,
            "grid_auto_columns": null,
            "grid_auto_flow": null,
            "grid_auto_rows": null,
            "grid_column": null,
            "grid_gap": null,
            "grid_row": null,
            "grid_template_areas": null,
            "grid_template_columns": null,
            "grid_template_rows": null,
            "height": null,
            "justify_content": null,
            "justify_items": null,
            "left": null,
            "margin": null,
            "max_height": null,
            "max_width": null,
            "min_height": null,
            "min_width": null,
            "object_fit": null,
            "object_position": null,
            "order": null,
            "overflow": null,
            "overflow_x": null,
            "overflow_y": null,
            "padding": null,
            "right": null,
            "top": null,
            "visibility": null,
            "width": null
          }
        },
        "1118362c3281403c93528959cb3a001d": {
          "model_module": "@jupyter-widgets/controls",
          "model_name": "ProgressStyleModel",
          "model_module_version": "1.5.0",
          "state": {
            "_model_module": "@jupyter-widgets/controls",
            "_model_module_version": "1.5.0",
            "_model_name": "ProgressStyleModel",
            "_view_count": null,
            "_view_module": "@jupyter-widgets/base",
            "_view_module_version": "1.2.0",
            "_view_name": "StyleView",
            "bar_color": null,
            "description_width": ""
          }
        },
        "f8ad29e5bb924eb7a8543c996ba0bf03": {
          "model_module": "@jupyter-widgets/base",
          "model_name": "LayoutModel",
          "model_module_version": "1.2.0",
          "state": {
            "_model_module": "@jupyter-widgets/base",
            "_model_module_version": "1.2.0",
            "_model_name": "LayoutModel",
            "_view_count": null,
            "_view_module": "@jupyter-widgets/base",
            "_view_module_version": "1.2.0",
            "_view_name": "LayoutView",
            "align_content": null,
            "align_items": null,
            "align_self": null,
            "border": null,
            "bottom": null,
            "display": null,
            "flex": null,
            "flex_flow": null,
            "grid_area": null,
            "grid_auto_columns": null,
            "grid_auto_flow": null,
            "grid_auto_rows": null,
            "grid_column": null,
            "grid_gap": null,
            "grid_row": null,
            "grid_template_areas": null,
            "grid_template_columns": null,
            "grid_template_rows": null,
            "height": null,
            "justify_content": null,
            "justify_items": null,
            "left": null,
            "margin": null,
            "max_height": null,
            "max_width": null,
            "min_height": null,
            "min_width": null,
            "object_fit": null,
            "object_position": null,
            "order": null,
            "overflow": null,
            "overflow_x": null,
            "overflow_y": null,
            "padding": null,
            "right": null,
            "top": null,
            "visibility": null,
            "width": null
          }
        },
        "c32a317568324606adde9eee46f78277": {
          "model_module": "@jupyter-widgets/controls",
          "model_name": "DescriptionStyleModel",
          "model_module_version": "1.5.0",
          "state": {
            "_model_module": "@jupyter-widgets/controls",
            "_model_module_version": "1.5.0",
            "_model_name": "DescriptionStyleModel",
            "_view_count": null,
            "_view_module": "@jupyter-widgets/base",
            "_view_module_version": "1.2.0",
            "_view_name": "StyleView",
            "description_width": ""
          }
        },
        "736e302b77654c86a2bda9faa1acf6ae": {
          "model_module": "@jupyter-widgets/controls",
          "model_name": "HBoxModel",
          "model_module_version": "1.5.0",
          "state": {
            "_dom_classes": [],
            "_model_module": "@jupyter-widgets/controls",
            "_model_module_version": "1.5.0",
            "_model_name": "HBoxModel",
            "_view_count": null,
            "_view_module": "@jupyter-widgets/controls",
            "_view_module_version": "1.5.0",
            "_view_name": "HBoxView",
            "box_style": "",
            "children": [
              "IPY_MODEL_c3c321b54d064b40a5a39b9bf62d2082",
              "IPY_MODEL_63a632c200454de09e111dd62ba88eb6",
              "IPY_MODEL_9fbfcb62e8584ad3b81c26c436191dc3"
            ],
            "layout": "IPY_MODEL_394504d87eda454485b55191c1dad431"
          }
        },
        "c3c321b54d064b40a5a39b9bf62d2082": {
          "model_module": "@jupyter-widgets/controls",
          "model_name": "HTMLModel",
          "model_module_version": "1.5.0",
          "state": {
            "_dom_classes": [],
            "_model_module": "@jupyter-widgets/controls",
            "_model_module_version": "1.5.0",
            "_model_name": "HTMLModel",
            "_view_count": null,
            "_view_module": "@jupyter-widgets/controls",
            "_view_module_version": "1.5.0",
            "_view_name": "HTMLView",
            "description": "",
            "description_tooltip": null,
            "layout": "IPY_MODEL_72c1f5b50d2f4923b2b3fc1ad761742d",
            "placeholder": "​",
            "style": "IPY_MODEL_fa99ac4401d444fa8abf64a6e8025abd",
            "value": "Downloading: 100%"
          }
        },
        "63a632c200454de09e111dd62ba88eb6": {
          "model_module": "@jupyter-widgets/controls",
          "model_name": "FloatProgressModel",
          "model_module_version": "1.5.0",
          "state": {
            "_dom_classes": [],
            "_model_module": "@jupyter-widgets/controls",
            "_model_module_version": "1.5.0",
            "_model_name": "FloatProgressModel",
            "_view_count": null,
            "_view_module": "@jupyter-widgets/controls",
            "_view_module_version": "1.5.0",
            "_view_name": "ProgressView",
            "bar_style": "success",
            "description": "",
            "description_tooltip": null,
            "layout": "IPY_MODEL_fe79b85d76614c5280f4a3397dae90f1",
            "max": 570,
            "min": 0,
            "orientation": "horizontal",
            "style": "IPY_MODEL_3795681b58ed4143ac5eeeb52fbee264",
            "value": 570
          }
        },
        "9fbfcb62e8584ad3b81c26c436191dc3": {
          "model_module": "@jupyter-widgets/controls",
          "model_name": "HTMLModel",
          "model_module_version": "1.5.0",
          "state": {
            "_dom_classes": [],
            "_model_module": "@jupyter-widgets/controls",
            "_model_module_version": "1.5.0",
            "_model_name": "HTMLModel",
            "_view_count": null,
            "_view_module": "@jupyter-widgets/controls",
            "_view_module_version": "1.5.0",
            "_view_name": "HTMLView",
            "description": "",
            "description_tooltip": null,
            "layout": "IPY_MODEL_db7fafdc5eaa4abb84fa3cccef028854",
            "placeholder": "​",
            "style": "IPY_MODEL_e7f210270dbf442aa61e12f31c0ceb85",
            "value": " 570/570 [00:00&lt;00:00, 4.09kB/s]"
          }
        },
        "394504d87eda454485b55191c1dad431": {
          "model_module": "@jupyter-widgets/base",
          "model_name": "LayoutModel",
          "model_module_version": "1.2.0",
          "state": {
            "_model_module": "@jupyter-widgets/base",
            "_model_module_version": "1.2.0",
            "_model_name": "LayoutModel",
            "_view_count": null,
            "_view_module": "@jupyter-widgets/base",
            "_view_module_version": "1.2.0",
            "_view_name": "LayoutView",
            "align_content": null,
            "align_items": null,
            "align_self": null,
            "border": null,
            "bottom": null,
            "display": null,
            "flex": null,
            "flex_flow": null,
            "grid_area": null,
            "grid_auto_columns": null,
            "grid_auto_flow": null,
            "grid_auto_rows": null,
            "grid_column": null,
            "grid_gap": null,
            "grid_row": null,
            "grid_template_areas": null,
            "grid_template_columns": null,
            "grid_template_rows": null,
            "height": null,
            "justify_content": null,
            "justify_items": null,
            "left": null,
            "margin": null,
            "max_height": null,
            "max_width": null,
            "min_height": null,
            "min_width": null,
            "object_fit": null,
            "object_position": null,
            "order": null,
            "overflow": null,
            "overflow_x": null,
            "overflow_y": null,
            "padding": null,
            "right": null,
            "top": null,
            "visibility": null,
            "width": null
          }
        },
        "72c1f5b50d2f4923b2b3fc1ad761742d": {
          "model_module": "@jupyter-widgets/base",
          "model_name": "LayoutModel",
          "model_module_version": "1.2.0",
          "state": {
            "_model_module": "@jupyter-widgets/base",
            "_model_module_version": "1.2.0",
            "_model_name": "LayoutModel",
            "_view_count": null,
            "_view_module": "@jupyter-widgets/base",
            "_view_module_version": "1.2.0",
            "_view_name": "LayoutView",
            "align_content": null,
            "align_items": null,
            "align_self": null,
            "border": null,
            "bottom": null,
            "display": null,
            "flex": null,
            "flex_flow": null,
            "grid_area": null,
            "grid_auto_columns": null,
            "grid_auto_flow": null,
            "grid_auto_rows": null,
            "grid_column": null,
            "grid_gap": null,
            "grid_row": null,
            "grid_template_areas": null,
            "grid_template_columns": null,
            "grid_template_rows": null,
            "height": null,
            "justify_content": null,
            "justify_items": null,
            "left": null,
            "margin": null,
            "max_height": null,
            "max_width": null,
            "min_height": null,
            "min_width": null,
            "object_fit": null,
            "object_position": null,
            "order": null,
            "overflow": null,
            "overflow_x": null,
            "overflow_y": null,
            "padding": null,
            "right": null,
            "top": null,
            "visibility": null,
            "width": null
          }
        },
        "fa99ac4401d444fa8abf64a6e8025abd": {
          "model_module": "@jupyter-widgets/controls",
          "model_name": "DescriptionStyleModel",
          "model_module_version": "1.5.0",
          "state": {
            "_model_module": "@jupyter-widgets/controls",
            "_model_module_version": "1.5.0",
            "_model_name": "DescriptionStyleModel",
            "_view_count": null,
            "_view_module": "@jupyter-widgets/base",
            "_view_module_version": "1.2.0",
            "_view_name": "StyleView",
            "description_width": ""
          }
        },
        "fe79b85d76614c5280f4a3397dae90f1": {
          "model_module": "@jupyter-widgets/base",
          "model_name": "LayoutModel",
          "model_module_version": "1.2.0",
          "state": {
            "_model_module": "@jupyter-widgets/base",
            "_model_module_version": "1.2.0",
            "_model_name": "LayoutModel",
            "_view_count": null,
            "_view_module": "@jupyter-widgets/base",
            "_view_module_version": "1.2.0",
            "_view_name": "LayoutView",
            "align_content": null,
            "align_items": null,
            "align_self": null,
            "border": null,
            "bottom": null,
            "display": null,
            "flex": null,
            "flex_flow": null,
            "grid_area": null,
            "grid_auto_columns": null,
            "grid_auto_flow": null,
            "grid_auto_rows": null,
            "grid_column": null,
            "grid_gap": null,
            "grid_row": null,
            "grid_template_areas": null,
            "grid_template_columns": null,
            "grid_template_rows": null,
            "height": null,
            "justify_content": null,
            "justify_items": null,
            "left": null,
            "margin": null,
            "max_height": null,
            "max_width": null,
            "min_height": null,
            "min_width": null,
            "object_fit": null,
            "object_position": null,
            "order": null,
            "overflow": null,
            "overflow_x": null,
            "overflow_y": null,
            "padding": null,
            "right": null,
            "top": null,
            "visibility": null,
            "width": null
          }
        },
        "3795681b58ed4143ac5eeeb52fbee264": {
          "model_module": "@jupyter-widgets/controls",
          "model_name": "ProgressStyleModel",
          "model_module_version": "1.5.0",
          "state": {
            "_model_module": "@jupyter-widgets/controls",
            "_model_module_version": "1.5.0",
            "_model_name": "ProgressStyleModel",
            "_view_count": null,
            "_view_module": "@jupyter-widgets/base",
            "_view_module_version": "1.2.0",
            "_view_name": "StyleView",
            "bar_color": null,
            "description_width": ""
          }
        },
        "db7fafdc5eaa4abb84fa3cccef028854": {
          "model_module": "@jupyter-widgets/base",
          "model_name": "LayoutModel",
          "model_module_version": "1.2.0",
          "state": {
            "_model_module": "@jupyter-widgets/base",
            "_model_module_version": "1.2.0",
            "_model_name": "LayoutModel",
            "_view_count": null,
            "_view_module": "@jupyter-widgets/base",
            "_view_module_version": "1.2.0",
            "_view_name": "LayoutView",
            "align_content": null,
            "align_items": null,
            "align_self": null,
            "border": null,
            "bottom": null,
            "display": null,
            "flex": null,
            "flex_flow": null,
            "grid_area": null,
            "grid_auto_columns": null,
            "grid_auto_flow": null,
            "grid_auto_rows": null,
            "grid_column": null,
            "grid_gap": null,
            "grid_row": null,
            "grid_template_areas": null,
            "grid_template_columns": null,
            "grid_template_rows": null,
            "height": null,
            "justify_content": null,
            "justify_items": null,
            "left": null,
            "margin": null,
            "max_height": null,
            "max_width": null,
            "min_height": null,
            "min_width": null,
            "object_fit": null,
            "object_position": null,
            "order": null,
            "overflow": null,
            "overflow_x": null,
            "overflow_y": null,
            "padding": null,
            "right": null,
            "top": null,
            "visibility": null,
            "width": null
          }
        },
        "e7f210270dbf442aa61e12f31c0ceb85": {
          "model_module": "@jupyter-widgets/controls",
          "model_name": "DescriptionStyleModel",
          "model_module_version": "1.5.0",
          "state": {
            "_model_module": "@jupyter-widgets/controls",
            "_model_module_version": "1.5.0",
            "_model_name": "DescriptionStyleModel",
            "_view_count": null,
            "_view_module": "@jupyter-widgets/base",
            "_view_module_version": "1.2.0",
            "_view_name": "StyleView",
            "description_width": ""
          }
        },
        "8b7aa20be96c40a6b2d4b5d2d88f3427": {
          "model_module": "@jupyter-widgets/controls",
          "model_name": "HBoxModel",
          "model_module_version": "1.5.0",
          "state": {
            "_dom_classes": [],
            "_model_module": "@jupyter-widgets/controls",
            "_model_module_version": "1.5.0",
            "_model_name": "HBoxModel",
            "_view_count": null,
            "_view_module": "@jupyter-widgets/controls",
            "_view_module_version": "1.5.0",
            "_view_name": "HBoxView",
            "box_style": "",
            "children": [
              "IPY_MODEL_c8eaa7872693417eb9dd6f35969a51e1",
              "IPY_MODEL_c1faedf86eb9470b86e467d2e6d212ae",
              "IPY_MODEL_5465b4eafb0f461b9e32d722adc6e398"
            ],
            "layout": "IPY_MODEL_3a52d7335c8b4d299a2b9d4b81983d46"
          }
        },
        "c8eaa7872693417eb9dd6f35969a51e1": {
          "model_module": "@jupyter-widgets/controls",
          "model_name": "HTMLModel",
          "model_module_version": "1.5.0",
          "state": {
            "_dom_classes": [],
            "_model_module": "@jupyter-widgets/controls",
            "_model_module_version": "1.5.0",
            "_model_name": "HTMLModel",
            "_view_count": null,
            "_view_module": "@jupyter-widgets/controls",
            "_view_module_version": "1.5.0",
            "_view_name": "HTMLView",
            "description": "",
            "description_tooltip": null,
            "layout": "IPY_MODEL_29e7d58d4ed94a2ebe3ecbee2d89710b",
            "placeholder": "​",
            "style": "IPY_MODEL_d08a77fa629946a691755190c61220e9",
            "value": "Downloading: 100%"
          }
        },
        "c1faedf86eb9470b86e467d2e6d212ae": {
          "model_module": "@jupyter-widgets/controls",
          "model_name": "FloatProgressModel",
          "model_module_version": "1.5.0",
          "state": {
            "_dom_classes": [],
            "_model_module": "@jupyter-widgets/controls",
            "_model_module_version": "1.5.0",
            "_model_name": "FloatProgressModel",
            "_view_count": null,
            "_view_module": "@jupyter-widgets/controls",
            "_view_module_version": "1.5.0",
            "_view_name": "ProgressView",
            "bar_style": "success",
            "description": "",
            "description_tooltip": null,
            "layout": "IPY_MODEL_6e78ae59cb3547c5a13393c39bd029ae",
            "max": 440473133,
            "min": 0,
            "orientation": "horizontal",
            "style": "IPY_MODEL_7bacca8150484ca49975ede7e4b83bb4",
            "value": 440473133
          }
        },
        "5465b4eafb0f461b9e32d722adc6e398": {
          "model_module": "@jupyter-widgets/controls",
          "model_name": "HTMLModel",
          "model_module_version": "1.5.0",
          "state": {
            "_dom_classes": [],
            "_model_module": "@jupyter-widgets/controls",
            "_model_module_version": "1.5.0",
            "_model_name": "HTMLModel",
            "_view_count": null,
            "_view_module": "@jupyter-widgets/controls",
            "_view_module_version": "1.5.0",
            "_view_name": "HTMLView",
            "description": "",
            "description_tooltip": null,
            "layout": "IPY_MODEL_420d05487c414041a7b58e7501c82e32",
            "placeholder": "​",
            "style": "IPY_MODEL_5479c9baed4146119605753f61532620",
            "value": " 420M/420M [00:09&lt;00:00, 45.9MB/s]"
          }
        },
        "3a52d7335c8b4d299a2b9d4b81983d46": {
          "model_module": "@jupyter-widgets/base",
          "model_name": "LayoutModel",
          "model_module_version": "1.2.0",
          "state": {
            "_model_module": "@jupyter-widgets/base",
            "_model_module_version": "1.2.0",
            "_model_name": "LayoutModel",
            "_view_count": null,
            "_view_module": "@jupyter-widgets/base",
            "_view_module_version": "1.2.0",
            "_view_name": "LayoutView",
            "align_content": null,
            "align_items": null,
            "align_self": null,
            "border": null,
            "bottom": null,
            "display": null,
            "flex": null,
            "flex_flow": null,
            "grid_area": null,
            "grid_auto_columns": null,
            "grid_auto_flow": null,
            "grid_auto_rows": null,
            "grid_column": null,
            "grid_gap": null,
            "grid_row": null,
            "grid_template_areas": null,
            "grid_template_columns": null,
            "grid_template_rows": null,
            "height": null,
            "justify_content": null,
            "justify_items": null,
            "left": null,
            "margin": null,
            "max_height": null,
            "max_width": null,
            "min_height": null,
            "min_width": null,
            "object_fit": null,
            "object_position": null,
            "order": null,
            "overflow": null,
            "overflow_x": null,
            "overflow_y": null,
            "padding": null,
            "right": null,
            "top": null,
            "visibility": null,
            "width": null
          }
        },
        "29e7d58d4ed94a2ebe3ecbee2d89710b": {
          "model_module": "@jupyter-widgets/base",
          "model_name": "LayoutModel",
          "model_module_version": "1.2.0",
          "state": {
            "_model_module": "@jupyter-widgets/base",
            "_model_module_version": "1.2.0",
            "_model_name": "LayoutModel",
            "_view_count": null,
            "_view_module": "@jupyter-widgets/base",
            "_view_module_version": "1.2.0",
            "_view_name": "LayoutView",
            "align_content": null,
            "align_items": null,
            "align_self": null,
            "border": null,
            "bottom": null,
            "display": null,
            "flex": null,
            "flex_flow": null,
            "grid_area": null,
            "grid_auto_columns": null,
            "grid_auto_flow": null,
            "grid_auto_rows": null,
            "grid_column": null,
            "grid_gap": null,
            "grid_row": null,
            "grid_template_areas": null,
            "grid_template_columns": null,
            "grid_template_rows": null,
            "height": null,
            "justify_content": null,
            "justify_items": null,
            "left": null,
            "margin": null,
            "max_height": null,
            "max_width": null,
            "min_height": null,
            "min_width": null,
            "object_fit": null,
            "object_position": null,
            "order": null,
            "overflow": null,
            "overflow_x": null,
            "overflow_y": null,
            "padding": null,
            "right": null,
            "top": null,
            "visibility": null,
            "width": null
          }
        },
        "d08a77fa629946a691755190c61220e9": {
          "model_module": "@jupyter-widgets/controls",
          "model_name": "DescriptionStyleModel",
          "model_module_version": "1.5.0",
          "state": {
            "_model_module": "@jupyter-widgets/controls",
            "_model_module_version": "1.5.0",
            "_model_name": "DescriptionStyleModel",
            "_view_count": null,
            "_view_module": "@jupyter-widgets/base",
            "_view_module_version": "1.2.0",
            "_view_name": "StyleView",
            "description_width": ""
          }
        },
        "6e78ae59cb3547c5a13393c39bd029ae": {
          "model_module": "@jupyter-widgets/base",
          "model_name": "LayoutModel",
          "model_module_version": "1.2.0",
          "state": {
            "_model_module": "@jupyter-widgets/base",
            "_model_module_version": "1.2.0",
            "_model_name": "LayoutModel",
            "_view_count": null,
            "_view_module": "@jupyter-widgets/base",
            "_view_module_version": "1.2.0",
            "_view_name": "LayoutView",
            "align_content": null,
            "align_items": null,
            "align_self": null,
            "border": null,
            "bottom": null,
            "display": null,
            "flex": null,
            "flex_flow": null,
            "grid_area": null,
            "grid_auto_columns": null,
            "grid_auto_flow": null,
            "grid_auto_rows": null,
            "grid_column": null,
            "grid_gap": null,
            "grid_row": null,
            "grid_template_areas": null,
            "grid_template_columns": null,
            "grid_template_rows": null,
            "height": null,
            "justify_content": null,
            "justify_items": null,
            "left": null,
            "margin": null,
            "max_height": null,
            "max_width": null,
            "min_height": null,
            "min_width": null,
            "object_fit": null,
            "object_position": null,
            "order": null,
            "overflow": null,
            "overflow_x": null,
            "overflow_y": null,
            "padding": null,
            "right": null,
            "top": null,
            "visibility": null,
            "width": null
          }
        },
        "7bacca8150484ca49975ede7e4b83bb4": {
          "model_module": "@jupyter-widgets/controls",
          "model_name": "ProgressStyleModel",
          "model_module_version": "1.5.0",
          "state": {
            "_model_module": "@jupyter-widgets/controls",
            "_model_module_version": "1.5.0",
            "_model_name": "ProgressStyleModel",
            "_view_count": null,
            "_view_module": "@jupyter-widgets/base",
            "_view_module_version": "1.2.0",
            "_view_name": "StyleView",
            "bar_color": null,
            "description_width": ""
          }
        },
        "420d05487c414041a7b58e7501c82e32": {
          "model_module": "@jupyter-widgets/base",
          "model_name": "LayoutModel",
          "model_module_version": "1.2.0",
          "state": {
            "_model_module": "@jupyter-widgets/base",
            "_model_module_version": "1.2.0",
            "_model_name": "LayoutModel",
            "_view_count": null,
            "_view_module": "@jupyter-widgets/base",
            "_view_module_version": "1.2.0",
            "_view_name": "LayoutView",
            "align_content": null,
            "align_items": null,
            "align_self": null,
            "border": null,
            "bottom": null,
            "display": null,
            "flex": null,
            "flex_flow": null,
            "grid_area": null,
            "grid_auto_columns": null,
            "grid_auto_flow": null,
            "grid_auto_rows": null,
            "grid_column": null,
            "grid_gap": null,
            "grid_row": null,
            "grid_template_areas": null,
            "grid_template_columns": null,
            "grid_template_rows": null,
            "height": null,
            "justify_content": null,
            "justify_items": null,
            "left": null,
            "margin": null,
            "max_height": null,
            "max_width": null,
            "min_height": null,
            "min_width": null,
            "object_fit": null,
            "object_position": null,
            "order": null,
            "overflow": null,
            "overflow_x": null,
            "overflow_y": null,
            "padding": null,
            "right": null,
            "top": null,
            "visibility": null,
            "width": null
          }
        },
        "5479c9baed4146119605753f61532620": {
          "model_module": "@jupyter-widgets/controls",
          "model_name": "DescriptionStyleModel",
          "model_module_version": "1.5.0",
          "state": {
            "_model_module": "@jupyter-widgets/controls",
            "_model_module_version": "1.5.0",
            "_model_name": "DescriptionStyleModel",
            "_view_count": null,
            "_view_module": "@jupyter-widgets/base",
            "_view_module_version": "1.2.0",
            "_view_name": "StyleView",
            "description_width": ""
          }
        }
      }
    }
  },
  "nbformat": 4,
  "nbformat_minor": 0
}